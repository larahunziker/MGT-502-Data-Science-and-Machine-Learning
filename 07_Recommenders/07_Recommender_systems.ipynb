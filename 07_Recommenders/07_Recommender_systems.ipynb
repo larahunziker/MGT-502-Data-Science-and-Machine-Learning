{
 "cells": [
  {
   "cell_type": "code",
   "execution_count": 3,
   "metadata": {},
   "outputs": [],
   "source": [
    "# Import standard libraries\n",
    "import pandas as pd\n",
    "import numpy as np\n",
    "import seaborn as sns\n",
    "import time\n",
    "import re\n",
    "import io\n",
    "from scipy import sparse as sp\n",
    "from scipy.sparse.linalg import norm\n",
    "from collections import defaultdict\n",
    "from inspect import signature\n",
    "import sklearn.preprocessing as pp\n",
    "import matplotlib.pyplot as plt\n",
    "%matplotlib inline\n",
    "from IPython.display import Image, display, HTML\n",
    "\n",
    "# Import from surprise library\n",
    "from surprise import Dataset\n",
    "from surprise import get_dataset_dir\n",
    "from surprise import KNNBasic, KNNWithMeans, SVD\n",
    "from surprise.model_selection import train_test_split \n",
    "from surprise.model_selection import cross_validate, GridSearchCV\n",
    "\n",
    "# Set some formatting options\n",
    "plt.style.use('dark_background')\n",
    "np.set_printoptions(threshold=500, precision=4)\n",
    "pd.options.display.max_seq_items = 20\n",
    "pd.options.display.max_rows = 20"
   ]
  },
  {
   "cell_type": "markdown",
   "metadata": {
    "id": "12cW8RItmOpj"
   },
   "source": [
    "# Recommender Systems\n",
    "\n",
    "<img src='https://imgs.xkcd.com/comics/star_ratings.png' width=\"300\">\n",
    "\n",
    "Source: [xkcd 1908](https://xkcd.com/1098/)"
   ]
  },
  {
   "cell_type": "markdown",
   "metadata": {},
   "source": [
    "## Content\n",
    "\n",
    "The goal of this walkthrough is to provide you with insights on recommender systems. A [recommender system](https://en.wikipedia.org/wiki/Recommender_system) is a subclass of information filtering system that seeks to predict the \"rating\" or \"preference\" a user would give to an item. They are primarily used in commercial applications.\n",
    "\n",
    "In this notebook, we will see how to implement a recommender from scratch before using the surprise library:\n",
    "- [Implementing User-User Collaborative Filtering from scratch](#Implementing-User-User-Collaborative-Filtering-from-scratch)\n",
    "    - [Load data](#Load-data)\n",
    "    - [Data visualization](#Data-visualization)\n",
    "    - [Preprocessing](#Preprocessing)\n",
    "    - [Create the Ratings Matrix](#Create-the-Ratings-Matrix)\n",
    "    - [User Average Ratings](#User-Average-Ratings)\n",
    "    - [Compute User-User Similarity](#Compute-User-User-Similarity) \n",
    "    - [User to all Users Similarities](#User-to-all-Users-Similarities)\n",
    "    - [Create User Neighborhood](#Create-User-Neighborhood) \n",
    "    - [Predict a Rating](#Predict-a-Rating) \n",
    "    - [Recommendation](#Recommendation)\n",
    "- [Using the Surprise library](#Using-the-Surprise-library)\n",
    "    - [Building a recommender system](#Building-a-recommender-system)\n",
    "    - [Visualizing the recommendations](#Visualizing-the-recommendations)\n",
    "    - [Precision and Recall at rank k](#Precision-and-Recall-at-rank-k)\n",
    "    - [Precision-recall curve](#Precision-recall-curve)\n",
    "    - [Cross-validation](#Cross-validation)\n",
    "    - [Tuning hyper-parameters](#Tuning-hyper-parameters)"
   ]
  },
  {
   "cell_type": "markdown",
   "metadata": {
    "id": "WvwKN6fqmMZ8"
   },
   "source": [
    "## Implementing User-User Collaborative Filtering from scratch\n",
    "\n",
    "Our goal is to implement User-User Collaborative Filtering from scratch, i.e., by only using `numpy` and `scipy` libraries."
   ]
  },
  {
   "cell_type": "markdown",
   "metadata": {
    "id": "qmljqGT8nAAF"
   },
   "source": [
    "### Load data\n",
    "\n",
    "We will use the MovieLens dataset, which contains movie ratings collected from the MovieLens website by the [GroupLens](https://grouplens.org/) research lab, and more specifically the [small dataset for education and development](https://grouplens.org/datasets/movielens/).\n",
    "\n",
    "Source: F. Maxwell Harper and Joseph A. Konstan. 2015. The MovieLens Datasets: History and Context. *ACM Transactions on Interactive Intelligent Systems (TiiS)* 5, 4: 19:1–19:19. <https://doi.org/10.1145/2827872>"
   ]
  },
  {
   "cell_type": "code",
   "execution_count": 4,
   "metadata": {
    "id": "ZVjGJMVXmMZ-"
   },
   "outputs": [],
   "source": [
    "# Load data\n",
    "ratings_raw = pd.read_csv('https://raw.githubusercontent.com/michalis0/MGT-502-Data-Science-and-Machine-Learning/main/data/ml-latest-small/ratings.csv')\n",
    "movies = pd.read_csv('https://raw.githubusercontent.com/michalis0/MGT-502-Data-Science-and-Machine-Learning/main/data/ml-latest-small/movies.csv')\n",
    "links = pd.read_csv('https://raw.githubusercontent.com/michalis0/MGT-502-Data-Science-and-Machine-Learning/main/data/ml-latest-small/links.csv')"
   ]
  },
  {
   "cell_type": "markdown",
   "metadata": {
    "id": "ikvODPGbmMZ-"
   },
   "source": [
    "The \"ratings.csv\" dataset contains the ratings given to movies by users:"
   ]
  },
  {
   "cell_type": "code",
   "execution_count": 5,
   "metadata": {
    "colab": {
     "base_uri": "https://localhost:8080/",
     "height": 621
    },
    "id": "6mWQnnUcmMZ-",
    "outputId": "5f39b401-6bc2-4ac8-85cc-a6e2d4fc6f6f"
   },
   "outputs": [
    {
     "data": {
      "text/html": [
       "<div>\n",
       "<style scoped>\n",
       "    .dataframe tbody tr th:only-of-type {\n",
       "        vertical-align: middle;\n",
       "    }\n",
       "\n",
       "    .dataframe tbody tr th {\n",
       "        vertical-align: top;\n",
       "    }\n",
       "\n",
       "    .dataframe thead th {\n",
       "        text-align: right;\n",
       "    }\n",
       "</style>\n",
       "<table border=\"1\" class=\"dataframe\">\n",
       "  <thead>\n",
       "    <tr style=\"text-align: right;\">\n",
       "      <th></th>\n",
       "      <th>userId</th>\n",
       "      <th>movieId</th>\n",
       "      <th>rating</th>\n",
       "      <th>timestamp</th>\n",
       "    </tr>\n",
       "  </thead>\n",
       "  <tbody>\n",
       "    <tr>\n",
       "      <th>0</th>\n",
       "      <td>1</td>\n",
       "      <td>1</td>\n",
       "      <td>4.0</td>\n",
       "      <td>964982703</td>\n",
       "    </tr>\n",
       "    <tr>\n",
       "      <th>1</th>\n",
       "      <td>1</td>\n",
       "      <td>3</td>\n",
       "      <td>4.0</td>\n",
       "      <td>964981247</td>\n",
       "    </tr>\n",
       "    <tr>\n",
       "      <th>2</th>\n",
       "      <td>1</td>\n",
       "      <td>6</td>\n",
       "      <td>4.0</td>\n",
       "      <td>964982224</td>\n",
       "    </tr>\n",
       "    <tr>\n",
       "      <th>3</th>\n",
       "      <td>1</td>\n",
       "      <td>47</td>\n",
       "      <td>5.0</td>\n",
       "      <td>964983815</td>\n",
       "    </tr>\n",
       "    <tr>\n",
       "      <th>4</th>\n",
       "      <td>1</td>\n",
       "      <td>50</td>\n",
       "      <td>5.0</td>\n",
       "      <td>964982931</td>\n",
       "    </tr>\n",
       "  </tbody>\n",
       "</table>\n",
       "</div>"
      ],
      "text/plain": [
       "   userId  movieId  rating  timestamp\n",
       "0       1        1     4.0  964982703\n",
       "1       1        3     4.0  964981247\n",
       "2       1        6     4.0  964982224\n",
       "3       1       47     5.0  964983815\n",
       "4       1       50     5.0  964982931"
      ]
     },
     "metadata": {},
     "output_type": "display_data"
    },
    {
     "name": "stdout",
     "output_type": "stream",
     "text": [
      "Distinct users: 610\n",
      "Distinct movies: 9724\n"
     ]
    }
   ],
   "source": [
    "display(ratings_raw.head())\n",
    "print(\"Distinct users:\", len(ratings_raw.userId.unique()))\n",
    "print(\"Distinct movies:\", len(ratings_raw.movieId.unique()))"
   ]
  },
  {
   "cell_type": "markdown",
   "metadata": {},
   "source": [
    "Note that the movies are identified by an Id number. The \"movies.csv\" file gives us the title corresponding to a given Id number:"
   ]
  },
  {
   "cell_type": "code",
   "execution_count": 6,
   "metadata": {},
   "outputs": [
    {
     "data": {
      "text/html": [
       "<div>\n",
       "<style scoped>\n",
       "    .dataframe tbody tr th:only-of-type {\n",
       "        vertical-align: middle;\n",
       "    }\n",
       "\n",
       "    .dataframe tbody tr th {\n",
       "        vertical-align: top;\n",
       "    }\n",
       "\n",
       "    .dataframe thead th {\n",
       "        text-align: right;\n",
       "    }\n",
       "</style>\n",
       "<table border=\"1\" class=\"dataframe\">\n",
       "  <thead>\n",
       "    <tr style=\"text-align: right;\">\n",
       "      <th></th>\n",
       "      <th>movieId</th>\n",
       "      <th>title</th>\n",
       "      <th>genres</th>\n",
       "    </tr>\n",
       "  </thead>\n",
       "  <tbody>\n",
       "    <tr>\n",
       "      <th>0</th>\n",
       "      <td>1</td>\n",
       "      <td>Toy Story (1995)</td>\n",
       "      <td>Adventure|Animation|Children|Comedy|Fantasy</td>\n",
       "    </tr>\n",
       "    <tr>\n",
       "      <th>1</th>\n",
       "      <td>2</td>\n",
       "      <td>Jumanji (1995)</td>\n",
       "      <td>Adventure|Children|Fantasy</td>\n",
       "    </tr>\n",
       "    <tr>\n",
       "      <th>2</th>\n",
       "      <td>3</td>\n",
       "      <td>Grumpier Old Men (1995)</td>\n",
       "      <td>Comedy|Romance</td>\n",
       "    </tr>\n",
       "    <tr>\n",
       "      <th>3</th>\n",
       "      <td>4</td>\n",
       "      <td>Waiting to Exhale (1995)</td>\n",
       "      <td>Comedy|Drama|Romance</td>\n",
       "    </tr>\n",
       "    <tr>\n",
       "      <th>4</th>\n",
       "      <td>5</td>\n",
       "      <td>Father of the Bride Part II (1995)</td>\n",
       "      <td>Comedy</td>\n",
       "    </tr>\n",
       "  </tbody>\n",
       "</table>\n",
       "</div>"
      ],
      "text/plain": [
       "   movieId                               title  \\\n",
       "0        1                    Toy Story (1995)   \n",
       "1        2                      Jumanji (1995)   \n",
       "2        3             Grumpier Old Men (1995)   \n",
       "3        4            Waiting to Exhale (1995)   \n",
       "4        5  Father of the Bride Part II (1995)   \n",
       "\n",
       "                                        genres  \n",
       "0  Adventure|Animation|Children|Comedy|Fantasy  \n",
       "1                   Adventure|Children|Fantasy  \n",
       "2                               Comedy|Romance  \n",
       "3                         Comedy|Drama|Romance  \n",
       "4                                       Comedy  "
      ]
     },
     "metadata": {},
     "output_type": "display_data"
    }
   ],
   "source": [
    "display(movies.head())"
   ]
  },
  {
   "cell_type": "markdown",
   "metadata": {},
   "source": [
    "Finally, the \"links.csv\" file gives the identifiers that can be used to link to other sources of movie data, such as [IMDb](https://www.imdb.com/) and The Movie Database ([TMDb](https://www.themoviedb.org/)):"
   ]
  },
  {
   "cell_type": "code",
   "execution_count": 7,
   "metadata": {},
   "outputs": [
    {
     "data": {
      "text/html": [
       "<div>\n",
       "<style scoped>\n",
       "    .dataframe tbody tr th:only-of-type {\n",
       "        vertical-align: middle;\n",
       "    }\n",
       "\n",
       "    .dataframe tbody tr th {\n",
       "        vertical-align: top;\n",
       "    }\n",
       "\n",
       "    .dataframe thead th {\n",
       "        text-align: right;\n",
       "    }\n",
       "</style>\n",
       "<table border=\"1\" class=\"dataframe\">\n",
       "  <thead>\n",
       "    <tr style=\"text-align: right;\">\n",
       "      <th></th>\n",
       "      <th>movieId</th>\n",
       "      <th>imdbId</th>\n",
       "      <th>tmdbId</th>\n",
       "    </tr>\n",
       "  </thead>\n",
       "  <tbody>\n",
       "    <tr>\n",
       "      <th>0</th>\n",
       "      <td>1</td>\n",
       "      <td>114709</td>\n",
       "      <td>862.0</td>\n",
       "    </tr>\n",
       "    <tr>\n",
       "      <th>1</th>\n",
       "      <td>2</td>\n",
       "      <td>113497</td>\n",
       "      <td>8844.0</td>\n",
       "    </tr>\n",
       "    <tr>\n",
       "      <th>2</th>\n",
       "      <td>3</td>\n",
       "      <td>113228</td>\n",
       "      <td>15602.0</td>\n",
       "    </tr>\n",
       "    <tr>\n",
       "      <th>3</th>\n",
       "      <td>4</td>\n",
       "      <td>114885</td>\n",
       "      <td>31357.0</td>\n",
       "    </tr>\n",
       "    <tr>\n",
       "      <th>4</th>\n",
       "      <td>5</td>\n",
       "      <td>113041</td>\n",
       "      <td>11862.0</td>\n",
       "    </tr>\n",
       "  </tbody>\n",
       "</table>\n",
       "</div>"
      ],
      "text/plain": [
       "   movieId  imdbId   tmdbId\n",
       "0        1  114709    862.0\n",
       "1        2  113497   8844.0\n",
       "2        3  113228  15602.0\n",
       "3        4  114885  31357.0\n",
       "4        5  113041  11862.0"
      ]
     },
     "metadata": {},
     "output_type": "display_data"
    }
   ],
   "source": [
    "display(links.head())"
   ]
  },
  {
   "cell_type": "markdown",
   "metadata": {
    "id": "H1oYI3WxmMZ-"
   },
   "source": [
    "### Data visualization\n",
    "\n",
    "Lets visualize some of the movie data. We will use [tmdbsimple](https://pypi.org/project/tmdbsimple/) which is a wrapper, written in Python, for The Movie Database (TMDb) API v3. You can install tmdbsimple with the following line of code in your terminal:\n",
    "\n",
    "```python\n",
    "pip install tmdbsimple\n",
    "``` \n",
    "\n",
    "*Note*: You could also install a module directly from a Jupyter Notebook by using `!pip install`. The exclamation mark `!` allows you to run shell commands from inside a Jupyter Notebook code cell. However, you need to be careful when doing so since this could lead to some errors. For further information, see this discussion on how to [Install Python Packages from a Jupyter Notebook](https://jakevdp.github.io/blog/2017/12/05/installing-python-packages-from-jupyter/)."
   ]
  },
  {
   "cell_type": "markdown",
   "metadata": {},
   "source": [
    "We will also directly import a module from GitHub using the [httpimport](https://pypi.org/project/httpimport/) module. As before, you can install it with the following line of code:\n",
    "\n",
    "```python\n",
    "pip install httpimport\n",
    "``` "
   ]
  },
  {
   "cell_type": "markdown",
   "metadata": {
    "id": "elTxW5fOn94T"
   },
   "source": [
    "We import the \"TMDB_class\" module, which contains a class we need called `TMDB`:"
   ]
  },
  {
   "cell_type": "code",
   "execution_count": 1,
   "metadata": {
    "colab": {
     "base_uri": "https://localhost:8080/"
    },
    "id": "T97y7f2YuQgB",
    "outputId": "582128fd-1735-4543-db4e-836f1335bb20"
   },
   "outputs": [
    {
     "data": {
      "text/plain": [
       "<module 'TMDB_class' from '/Users/pcw/Documents/GitHub/MGT-502-Data-Science-and-Machine-Learning/07_Recommenders/TMDB_class/__init__.py'>"
      ]
     },
     "execution_count": 1,
     "metadata": {},
     "output_type": "execute_result"
    }
   ],
   "source": [
    "# Import module from GitHub\n",
    "import httpimport\n",
    "with httpimport.remote_repo('https://github.com/michalis0/MGT-502-Data-Science-and-Machine-Learning/tree/main/07_Recommenders/TMDB_class'):\n",
    "    import TMDB_class\n",
    "\n",
    "TMDB_class"
   ]
  },
  {
   "cell_type": "markdown",
   "metadata": {},
   "source": [
    "We now define two functions to help us in our exploration. The first function returns the HTML format of an image URL. The second function is using the first one to show the movie posters of the top rated movies for a given user identifier. "
   ]
  },
  {
   "cell_type": "code",
   "execution_count": 11,
   "metadata": {
    "id": "ujlt6Z-mmMZ-"
   },
   "outputs": [],
   "source": [
    "# Image url in html format\n",
    "def make_html(image_url):\n",
    "     return '<img src=\"{}\" style=\"display:inline;margin:1px\" width=\"100\"/>'\\\n",
    "            .format(image_url)\n",
    "\n",
    "# Display movie posters from userID    \n",
    "def show_movies_for_user(userId, verbose=False, show_all=False):\n",
    "    \"\"\"Retrieve posters of top rated movies for userId.\n",
    "    \"\"\"\n",
    "    html = ''\n",
    "    max_movies = 10\n",
    "    i=0\n",
    "    \n",
    "    # Extract all movies watched by user, sorted by rating\n",
    "    user_movies = ratings_raw[ratings_raw.userId == userId].sort_values(\"rating\", ascending=False)\n",
    "    # Print number of watched movies\n",
    "    print(f'User {userId} watched {len(user_movies)} movies.') \n",
    "    \n",
    "    # Loop through the movies to retrieve posters\n",
    "    for index, row in user_movies.iterrows():\n",
    "        movieId = row[\"movieId\"]                         # Extract MovieLens movie Id                 \n",
    "        movie_item = links[links.movieId == movieId]     # Extract row corresponding to movieId from links dataset\n",
    "        tmdbId = movie_item[\"tmdbId\"].item()             # Extract TMDb movie Id\n",
    "        # Print Id of movies in MovieLens and in TMDb is verbose=True\n",
    "        if verbose:\n",
    "            print(movieId, tmdbId)\n",
    "        # Retrieve TMDb movie poster url    \n",
    "        if np.isnan(tmdbId):\n",
    "            url = None\n",
    "        else:\n",
    "            url = TMDB_class.TMDB().get_poster_path_by_id(int(tmdbId)) # use imported module\n",
    "        html = html + make_html(url)                                   # convert image url to html\n",
    "        i +=1\n",
    "        # Only display top 10 movies if show_all = False\n",
    "        if ~show_all and (i == max_movies):\n",
    "                break\n",
    "        \n",
    "    display(HTML(html))"
   ]
  },
  {
   "cell_type": "markdown",
   "metadata": {},
   "source": [
    "Let's see the top 10 movies watched by user 6:"
   ]
  },
  {
   "cell_type": "code",
   "execution_count": 12,
   "metadata": {
    "colab": {
     "base_uri": "https://localhost:8080/",
     "height": 191
    },
    "id": "gkYybOWomMZ_",
    "outputId": "a558dc48-a0cd-45df-813b-a7b2db7087cb"
   },
   "outputs": [
    {
     "name": "stdout",
     "output_type": "stream",
     "text": [
      "User 6 watched 314 movies.\n"
     ]
    },
    {
     "data": {
      "text/html": [
       "<img src=\"http://image.tmdb.org/t/p/w200/q6y0Go1tsGEsmtFryDOJo3dEmqu.jpg\" style=\"display:inline;margin:1px\" width=\"100\"/><img src=\"http://image.tmdb.org/t/p/w200/sKCr78MXSLixwmZ8DyJLrpMsd15.jpg\" style=\"display:inline;margin:1px\" width=\"100\"/><img src=\"http://image.tmdb.org/t/p/w200/w9RaPHov8oM5cnzeE27isnFMsvS.jpg\" style=\"display:inline;margin:1px\" width=\"100\"/><img src=\"http://image.tmdb.org/t/p/w200/arw2vcBveWOVZr6pxd9XTd1TdQa.jpg\" style=\"display:inline;margin:1px\" width=\"100\"/><img src=\"http://image.tmdb.org/t/p/w200/p0BPQGSPoSa8Ml0DAf2mB2kCU0R.jpg\" style=\"display:inline;margin:1px\" width=\"100\"/><img src=\"http://image.tmdb.org/t/p/w200/44z8paOHQK1bDjTzEGcXsJ109ZS.jpg\" style=\"display:inline;margin:1px\" width=\"100\"/><img src=\"http://image.tmdb.org/t/p/w200/z8WqDIUC00TPX6U24ah0C7IMEKf.jpg\" style=\"display:inline;margin:1px\" width=\"100\"/><img src=\"http://image.tmdb.org/t/p/w200/oLdkJ4ZjxPtFSUChdjDQvHM9l75.jpg\" style=\"display:inline;margin:1px\" width=\"100\"/><img src=\"http://image.tmdb.org/t/p/w200/6xTM8FPxrLRYwz6I3fqtwh7xybs.jpg\" style=\"display:inline;margin:1px\" width=\"100\"/><img src=\"http://image.tmdb.org/t/p/w200/1FSXpj5e8l4KH6nVFO5SPUeraOt.jpg\" style=\"display:inline;margin:1px\" width=\"100\"/>"
      ],
      "text/plain": [
       "<IPython.core.display.HTML object>"
      ]
     },
     "metadata": {},
     "output_type": "display_data"
    }
   ],
   "source": [
    "show_movies_for_user(6, verbose=False)"
   ]
  },
  {
   "cell_type": "markdown",
   "metadata": {},
   "source": [
    "Unsurprisingly, the Lion King is among the top. Let's display the ratings and general information on these movies:"
   ]
  },
  {
   "cell_type": "code",
   "execution_count": 13,
   "metadata": {
    "colab": {
     "base_uri": "https://localhost:8080/",
     "height": 394
    },
    "id": "tVd_Cg_-E7oW",
    "outputId": "d41b0c05-d2a8-429a-d64d-65382ed8ab2e"
   },
   "outputs": [
    {
     "data": {
      "text/html": [
       "<div>\n",
       "<style scoped>\n",
       "    .dataframe tbody tr th:only-of-type {\n",
       "        vertical-align: middle;\n",
       "    }\n",
       "\n",
       "    .dataframe tbody tr th {\n",
       "        vertical-align: top;\n",
       "    }\n",
       "\n",
       "    .dataframe thead th {\n",
       "        text-align: right;\n",
       "    }\n",
       "</style>\n",
       "<table border=\"1\" class=\"dataframe\">\n",
       "  <thead>\n",
       "    <tr style=\"text-align: right;\">\n",
       "      <th></th>\n",
       "      <th>userId</th>\n",
       "      <th>rating</th>\n",
       "      <th>timestamp</th>\n",
       "      <th>title</th>\n",
       "      <th>genres</th>\n",
       "    </tr>\n",
       "    <tr>\n",
       "      <th>movieId</th>\n",
       "      <th></th>\n",
       "      <th></th>\n",
       "      <th></th>\n",
       "      <th></th>\n",
       "      <th></th>\n",
       "    </tr>\n",
       "  </thead>\n",
       "  <tbody>\n",
       "    <tr>\n",
       "      <th>318</th>\n",
       "      <td>6</td>\n",
       "      <td>5.0</td>\n",
       "      <td>845553200</td>\n",
       "      <td>Shawshank Redemption, The (1994)</td>\n",
       "      <td>Crime|Drama</td>\n",
       "    </tr>\n",
       "    <tr>\n",
       "      <th>364</th>\n",
       "      <td>6</td>\n",
       "      <td>5.0</td>\n",
       "      <td>845553317</td>\n",
       "      <td>Lion King, The (1994)</td>\n",
       "      <td>Adventure|Animation|Children|Drama|Musical|IMAX</td>\n",
       "    </tr>\n",
       "    <tr>\n",
       "      <th>587</th>\n",
       "      <td>6</td>\n",
       "      <td>5.0</td>\n",
       "      <td>845553381</td>\n",
       "      <td>Ghost (1990)</td>\n",
       "      <td>Comedy|Drama|Fantasy|Romance|Thriller</td>\n",
       "    </tr>\n",
       "    <tr>\n",
       "      <th>356</th>\n",
       "      <td>6</td>\n",
       "      <td>5.0</td>\n",
       "      <td>845553200</td>\n",
       "      <td>Forrest Gump (1994)</td>\n",
       "      <td>Comedy|Drama|Romance|War</td>\n",
       "    </tr>\n",
       "    <tr>\n",
       "      <th>780</th>\n",
       "      <td>6</td>\n",
       "      <td>5.0</td>\n",
       "      <td>845556915</td>\n",
       "      <td>Independence Day (a.k.a. ID4) (1996)</td>\n",
       "      <td>Action|Adventure|Sci-Fi|Thriller</td>\n",
       "    </tr>\n",
       "    <tr>\n",
       "      <th>783</th>\n",
       "      <td>6</td>\n",
       "      <td>5.0</td>\n",
       "      <td>845554584</td>\n",
       "      <td>Hunchback of Notre Dame, The (1996)</td>\n",
       "      <td>Animation|Children|Drama|Musical|Romance</td>\n",
       "    </tr>\n",
       "    <tr>\n",
       "      <th>257</th>\n",
       "      <td>6</td>\n",
       "      <td>5.0</td>\n",
       "      <td>845554176</td>\n",
       "      <td>Just Cause (1995)</td>\n",
       "      <td>Mystery|Thriller</td>\n",
       "    </tr>\n",
       "    <tr>\n",
       "      <th>350</th>\n",
       "      <td>6</td>\n",
       "      <td>5.0</td>\n",
       "      <td>845553489</td>\n",
       "      <td>Client, The (1994)</td>\n",
       "      <td>Drama|Mystery|Thriller</td>\n",
       "    </tr>\n",
       "    <tr>\n",
       "      <th>349</th>\n",
       "      <td>6</td>\n",
       "      <td>5.0</td>\n",
       "      <td>845553146</td>\n",
       "      <td>Clear and Present Danger (1994)</td>\n",
       "      <td>Action|Crime|Drama|Thriller</td>\n",
       "    </tr>\n",
       "    <tr>\n",
       "      <th>3</th>\n",
       "      <td>6</td>\n",
       "      <td>5.0</td>\n",
       "      <td>845554296</td>\n",
       "      <td>Grumpier Old Men (1995)</td>\n",
       "      <td>Comedy|Romance</td>\n",
       "    </tr>\n",
       "  </tbody>\n",
       "</table>\n",
       "</div>"
      ],
      "text/plain": [
       "         userId  rating  timestamp                                 title  \\\n",
       "movieId                                                                    \n",
       "318           6     5.0  845553200      Shawshank Redemption, The (1994)   \n",
       "364           6     5.0  845553317                 Lion King, The (1994)   \n",
       "587           6     5.0  845553381                          Ghost (1990)   \n",
       "356           6     5.0  845553200                   Forrest Gump (1994)   \n",
       "780           6     5.0  845556915  Independence Day (a.k.a. ID4) (1996)   \n",
       "783           6     5.0  845554584   Hunchback of Notre Dame, The (1996)   \n",
       "257           6     5.0  845554176                     Just Cause (1995)   \n",
       "350           6     5.0  845553489                    Client, The (1994)   \n",
       "349           6     5.0  845553146       Clear and Present Danger (1994)   \n",
       "3             6     5.0  845554296               Grumpier Old Men (1995)   \n",
       "\n",
       "                                                  genres  \n",
       "movieId                                                   \n",
       "318                                          Crime|Drama  \n",
       "364      Adventure|Animation|Children|Drama|Musical|IMAX  \n",
       "587                Comedy|Drama|Fantasy|Romance|Thriller  \n",
       "356                             Comedy|Drama|Romance|War  \n",
       "780                     Action|Adventure|Sci-Fi|Thriller  \n",
       "783             Animation|Children|Drama|Musical|Romance  \n",
       "257                                     Mystery|Thriller  \n",
       "350                               Drama|Mystery|Thriller  \n",
       "349                          Action|Crime|Drama|Thriller  \n",
       "3                                         Comedy|Romance  "
      ]
     },
     "execution_count": 13,
     "metadata": {},
     "output_type": "execute_result"
    }
   ],
   "source": [
    "(ratings_raw[ratings_raw.userId == 6]                       # Extract movies ratings for user ID = 6\n",
    "            .sort_values(\"rating\", ascending=False)         # Sort by rating\n",
    "            .head(10)                                       # Extract top 10 movies\n",
    "            .set_index('movieId')                           # Reset index by movie Id\n",
    "            .join(movies.set_index('movieId'), on='movieId') # Join with movies dataframe\n",
    ")"
   ]
  },
  {
   "cell_type": "markdown",
   "metadata": {},
   "source": [
    "We now define additional functions to pursue our analysis. The first one returns the name of a movie using the associated identifier. The second one plots a histogram of movies genres watched by one user:"
   ]
  },
  {
   "cell_type": "code",
   "execution_count": 14,
   "metadata": {
    "id": "ZbnQLvxDmMZ_"
   },
   "outputs": [],
   "source": [
    "def get_name_for_movie_id(movie_id):\n",
    "    \"\"\"Returns the name of a movie_id (based on ratings_raw i.e. original id)\"\"\"    \n",
    "    try: \n",
    "        movie_name = movies[movies.movieId == movie_id][\"title\"].item()\n",
    "    except KeyError:\n",
    "        movie_name = None\n",
    "    return movie_name\n",
    "    \n",
    "    \n",
    "def show_genres_histogram_for_user(user_id):\n",
    "    \"\"\"Create histogram of movies genres user_id has watched.\n",
    "    \"\"\"\n",
    "    # Extract movie Ids\n",
    "    user_movies = ratings_raw[ratings_raw.userId == user_id][\"movieId\"]\n",
    "    # Print number of watch movies\n",
    "    print(f'User {user_id} watched {len(user_movies)} movies.') \n",
    "    # Extract dataframe with title and genre of movies watched\n",
    "    user_movies_with_genre = movies[movies.movieId.isin(user_movies)]\n",
    "    display(user_movies_with_genre)\n",
    "    # List of all genres of movies watched (include duplicates)\n",
    "    genres_list = []\n",
    "    for index, row in user_movies_with_genre.iterrows():\n",
    "        genres_list += row[\"genres\"].split('|')\n",
    "    # Dataframe of all genres\n",
    "    df_genres = pd.DataFrame(genres_list, columns=['Genres'])\n",
    "    # Histogram of movies genres\n",
    "    df_genres.groupby('Genres').size().sort_values().plot(kind='barh')"
   ]
  },
  {
   "cell_type": "markdown",
   "metadata": {},
   "source": [
    "Let's check our function:"
   ]
  },
  {
   "cell_type": "code",
   "execution_count": 15,
   "metadata": {
    "colab": {
     "base_uri": "https://localhost:8080/",
     "height": 36
    },
    "id": "eWzVyYx4Z82u",
    "outputId": "c066a02f-d415-4ab6-f14e-25999ccf5b9c"
   },
   "outputs": [
    {
     "data": {
      "text/plain": [
       "'Lion King, The (1994)'"
      ]
     },
     "execution_count": 15,
     "metadata": {},
     "output_type": "execute_result"
    }
   ],
   "source": [
    "get_name_for_movie_id(364)"
   ]
  },
  {
   "cell_type": "code",
   "execution_count": 16,
   "metadata": {
    "colab": {
     "base_uri": "https://localhost:8080/",
     "height": 690
    },
    "id": "e7QVi7s5mMZ_",
    "outputId": "f0130bf7-dcf8-4b65-9952-fc6b2e7f6d64"
   },
   "outputs": [
    {
     "name": "stdout",
     "output_type": "stream",
     "text": [
      "User 6 watched 314 movies.\n"
     ]
    },
    {
     "data": {
      "text/html": [
       "<div>\n",
       "<style scoped>\n",
       "    .dataframe tbody tr th:only-of-type {\n",
       "        vertical-align: middle;\n",
       "    }\n",
       "\n",
       "    .dataframe tbody tr th {\n",
       "        vertical-align: top;\n",
       "    }\n",
       "\n",
       "    .dataframe thead th {\n",
       "        text-align: right;\n",
       "    }\n",
       "</style>\n",
       "<table border=\"1\" class=\"dataframe\">\n",
       "  <thead>\n",
       "    <tr style=\"text-align: right;\">\n",
       "      <th></th>\n",
       "      <th>movieId</th>\n",
       "      <th>title</th>\n",
       "      <th>genres</th>\n",
       "    </tr>\n",
       "  </thead>\n",
       "  <tbody>\n",
       "    <tr>\n",
       "      <th>1</th>\n",
       "      <td>2</td>\n",
       "      <td>Jumanji (1995)</td>\n",
       "      <td>Adventure|Children|Fantasy</td>\n",
       "    </tr>\n",
       "    <tr>\n",
       "      <th>2</th>\n",
       "      <td>3</td>\n",
       "      <td>Grumpier Old Men (1995)</td>\n",
       "      <td>Comedy|Romance</td>\n",
       "    </tr>\n",
       "    <tr>\n",
       "      <th>3</th>\n",
       "      <td>4</td>\n",
       "      <td>Waiting to Exhale (1995)</td>\n",
       "      <td>Comedy|Drama|Romance</td>\n",
       "    </tr>\n",
       "    <tr>\n",
       "      <th>4</th>\n",
       "      <td>5</td>\n",
       "      <td>Father of the Bride Part II (1995)</td>\n",
       "      <td>Comedy</td>\n",
       "    </tr>\n",
       "    <tr>\n",
       "      <th>5</th>\n",
       "      <td>6</td>\n",
       "      <td>Heat (1995)</td>\n",
       "      <td>Action|Crime|Thriller</td>\n",
       "    </tr>\n",
       "    <tr>\n",
       "      <th>...</th>\n",
       "      <td>...</td>\n",
       "      <td>...</td>\n",
       "      <td>...</td>\n",
       "    </tr>\n",
       "    <tr>\n",
       "      <th>811</th>\n",
       "      <td>1061</td>\n",
       "      <td>Sleepers (1996)</td>\n",
       "      <td>Thriller</td>\n",
       "    </tr>\n",
       "    <tr>\n",
       "      <th>812</th>\n",
       "      <td>1064</td>\n",
       "      <td>Aladdin and the King of Thieves (1996)</td>\n",
       "      <td>Animation|Children|Comedy|Fantasy|Musical|Romance</td>\n",
       "    </tr>\n",
       "    <tr>\n",
       "      <th>815</th>\n",
       "      <td>1073</td>\n",
       "      <td>Willy Wonka &amp; the Chocolate Factory (1971)</td>\n",
       "      <td>Children|Comedy|Fantasy|Musical</td>\n",
       "    </tr>\n",
       "    <tr>\n",
       "      <th>822</th>\n",
       "      <td>1082</td>\n",
       "      <td>Candidate, The (1972)</td>\n",
       "      <td>Drama</td>\n",
       "    </tr>\n",
       "    <tr>\n",
       "      <th>824</th>\n",
       "      <td>1084</td>\n",
       "      <td>Bonnie and Clyde (1967)</td>\n",
       "      <td>Crime|Drama</td>\n",
       "    </tr>\n",
       "  </tbody>\n",
       "</table>\n",
       "<p>314 rows × 3 columns</p>\n",
       "</div>"
      ],
      "text/plain": [
       "     movieId                                       title  \\\n",
       "1          2                              Jumanji (1995)   \n",
       "2          3                     Grumpier Old Men (1995)   \n",
       "3          4                    Waiting to Exhale (1995)   \n",
       "4          5          Father of the Bride Part II (1995)   \n",
       "5          6                                 Heat (1995)   \n",
       "..       ...                                         ...   \n",
       "811     1061                             Sleepers (1996)   \n",
       "812     1064      Aladdin and the King of Thieves (1996)   \n",
       "815     1073  Willy Wonka & the Chocolate Factory (1971)   \n",
       "822     1082                       Candidate, The (1972)   \n",
       "824     1084                     Bonnie and Clyde (1967)   \n",
       "\n",
       "                                                genres  \n",
       "1                           Adventure|Children|Fantasy  \n",
       "2                                       Comedy|Romance  \n",
       "3                                 Comedy|Drama|Romance  \n",
       "4                                               Comedy  \n",
       "5                                Action|Crime|Thriller  \n",
       "..                                                 ...  \n",
       "811                                           Thriller  \n",
       "812  Animation|Children|Comedy|Fantasy|Musical|Romance  \n",
       "815                    Children|Comedy|Fantasy|Musical  \n",
       "822                                              Drama  \n",
       "824                                        Crime|Drama  \n",
       "\n",
       "[314 rows x 3 columns]"
      ]
     },
     "metadata": {},
     "output_type": "display_data"
    },
    {
     "data": {
      "image/png": "[encoded data removed]",
      "text/plain": [
       "<Figure size 640x480 with 1 Axes>"
      ]
     },
     "metadata": {},
     "output_type": "display_data"
    }
   ],
   "source": [
    "show_genres_histogram_for_user(6)"
   ]
  },
  {
   "cell_type": "markdown",
   "metadata": {
    "id": "Eg6HAA8MmMZ_"
   },
   "source": [
    "### Preprocessing\n",
    "\n",
    "To create our ratings matrix, we need to make sure that movies and users have consecutive indexes starting from 0. We thus create two dictionaries mapping: 1) the movie identifiers (movieId) to movies indices (movieIDX); 2) the users identifiers (userId) to users indices (userIDX). "
   ]
  },
  {
   "cell_type": "code",
   "execution_count": 17,
   "metadata": {
    "colab": {
     "base_uri": "https://localhost:8080/",
     "height": 695
    },
    "id": "OU2AlsSNmMZ_",
    "outputId": "fbccb93f-86f1-4405-bfa4-5a23403a2003"
   },
   "outputs": [
    {
     "name": "stdout",
     "output_type": "stream",
     "text": [
      "There are 610 users, 9724 movies, and 100836 ratings.\n"
     ]
    }
   ],
   "source": [
    "# Extract and sort unique movies and users\n",
    "movieIds = ratings_raw.movieId.unique()\n",
    "movieIds.sort()\n",
    "userIds = ratings_raw.userId.unique()\n",
    "userIds.sort()\n",
    "\n",
    "# Size\n",
    "m = movieIds.size\n",
    "n = userIds.size\n",
    "numRatings = len(ratings_raw)\n",
    "print(f'There are {n} users, {m} movies, and {numRatings} ratings.')\n",
    "\n",
    "## Movies and users should have consecutive indexes starting from 0\n",
    "# Dictionaries to convert movie id to consecutive index and vice versa\n",
    "movieId_to_movieIDX = dict(zip(movieIds, range(0, m)))\n",
    "movieIDX_to_movieId = dict(zip(range(0, m), movieIds))\n",
    "# Dictionaries to convert user id to consecutive index and vice versa\n",
    "userId_to_userIDX = dict(zip(userIds, range(0, n)))\n",
    "userIDX_to_userId = dict(zip(range(0, n), userIds))"
   ]
  },
  {
   "cell_type": "markdown",
   "metadata": {
    "id": "S56uwMG-t0lV"
   },
   "source": [
    "We therefore have an index (IDX) and an ID for each movie (item) and each user."
   ]
  },
  {
   "cell_type": "code",
   "execution_count": 18,
   "metadata": {
    "colab": {
     "base_uri": "https://localhost:8080/"
    },
    "id": "yH27TM5cpdN2",
    "outputId": "dc899188-5671-4a97-8d85-739f17b37388"
   },
   "outputs": [
    {
     "name": "stdout",
     "output_type": "stream",
     "text": [
      "There is nobody with id = 0\n",
      "1 0\n",
      "2 1\n",
      "3 2\n",
      "4 3\n",
      "5 4\n",
      "6 5\n",
      "7 6\n",
      "8 7\n",
      "9 8\n"
     ]
    }
   ],
   "source": [
    "# Users id to index\n",
    "for id in range(0, 10):\n",
    "    try:\n",
    "        print(id, userId_to_userIDX[id])\n",
    "    except:\n",
    "        print('There is nobody with id = ' + str(id))"
   ]
  },
  {
   "cell_type": "markdown",
   "metadata": {},
   "source": [
    "Finally, we store the user indices, movie indices, and associated rating in the `ratings` dataframe."
   ]
  },
  {
   "cell_type": "code",
   "execution_count": 19,
   "metadata": {},
   "outputs": [
    {
     "data": {
      "text/html": [
       "<div>\n",
       "<style scoped>\n",
       "    .dataframe tbody tr th:only-of-type {\n",
       "        vertical-align: middle;\n",
       "    }\n",
       "\n",
       "    .dataframe tbody tr th {\n",
       "        vertical-align: top;\n",
       "    }\n",
       "\n",
       "    .dataframe thead th {\n",
       "        text-align: right;\n",
       "    }\n",
       "</style>\n",
       "<table border=\"1\" class=\"dataframe\">\n",
       "  <thead>\n",
       "    <tr style=\"text-align: right;\">\n",
       "      <th></th>\n",
       "      <th>user</th>\n",
       "      <th>item</th>\n",
       "      <th>rating</th>\n",
       "    </tr>\n",
       "  </thead>\n",
       "  <tbody>\n",
       "    <tr>\n",
       "      <th>0</th>\n",
       "      <td>0</td>\n",
       "      <td>0</td>\n",
       "      <td>4.0</td>\n",
       "    </tr>\n",
       "    <tr>\n",
       "      <th>1</th>\n",
       "      <td>0</td>\n",
       "      <td>2</td>\n",
       "      <td>4.0</td>\n",
       "    </tr>\n",
       "    <tr>\n",
       "      <th>2</th>\n",
       "      <td>0</td>\n",
       "      <td>5</td>\n",
       "      <td>4.0</td>\n",
       "    </tr>\n",
       "    <tr>\n",
       "      <th>3</th>\n",
       "      <td>0</td>\n",
       "      <td>43</td>\n",
       "      <td>5.0</td>\n",
       "    </tr>\n",
       "    <tr>\n",
       "      <th>4</th>\n",
       "      <td>0</td>\n",
       "      <td>46</td>\n",
       "      <td>5.0</td>\n",
       "    </tr>\n",
       "    <tr>\n",
       "      <th>5</th>\n",
       "      <td>0</td>\n",
       "      <td>62</td>\n",
       "      <td>3.0</td>\n",
       "    </tr>\n",
       "    <tr>\n",
       "      <th>6</th>\n",
       "      <td>0</td>\n",
       "      <td>89</td>\n",
       "      <td>5.0</td>\n",
       "    </tr>\n",
       "    <tr>\n",
       "      <th>7</th>\n",
       "      <td>0</td>\n",
       "      <td>97</td>\n",
       "      <td>4.0</td>\n",
       "    </tr>\n",
       "    <tr>\n",
       "      <th>8</th>\n",
       "      <td>0</td>\n",
       "      <td>124</td>\n",
       "      <td>5.0</td>\n",
       "    </tr>\n",
       "    <tr>\n",
       "      <th>9</th>\n",
       "      <td>0</td>\n",
       "      <td>130</td>\n",
       "      <td>5.0</td>\n",
       "    </tr>\n",
       "  </tbody>\n",
       "</table>\n",
       "</div>"
      ],
      "text/plain": [
       "   user  item  rating\n",
       "0     0     0     4.0\n",
       "1     0     2     4.0\n",
       "2     0     5     4.0\n",
       "3     0    43     5.0\n",
       "4     0    46     5.0\n",
       "5     0    62     3.0\n",
       "6     0    89     5.0\n",
       "7     0    97     4.0\n",
       "8     0   124     5.0\n",
       "9     0   130     5.0"
      ]
     },
     "metadata": {},
     "output_type": "display_data"
    }
   ],
   "source": [
    "# Create \"cleaned\" dataframe with userIDX, movieIDX, and rating\n",
    "ratings = pd.concat([ratings_raw['userId'].map(userId_to_userIDX),\n",
    "                     ratings_raw['movieId'].map(movieId_to_movieIDX),\n",
    "                     ratings_raw['rating']], axis=1)\n",
    "ratings.columns = ['user', 'item', 'rating']\n",
    "\n",
    "display(ratings.head(10))"
   ]
  },
  {
   "cell_type": "markdown",
   "metadata": {
    "id": "Q-0vV_MvmMZ_"
   },
   "source": [
    "### Create the Ratings Matrix\n",
    "\n",
    "We convert the `ratings` dataframe into a **Ratings Matrix**. Because it is very sparse, we use the `scipy.sparse` module to efficiently store and access it ([Documentation](https://docs.scipy.org/doc/scipy/reference/sparse.html)).\n",
    "\n",
    "Specifically, we create **two** versions of the same ratings matrix:\n",
    "- `R` is our basic matrix and is optimized for dot products, which will be useful when computing user-user similarities; `R` is stored in the Compressed Sparse Row format (`csr_matrix`).\n",
    "- `R_dok` is a different view of the ratings matrix, which allows to quickly test whether a user-item rating exists; `R_dok` is stored in the Dictionary Of Keys format (`dok_matrix`) so you can access the data like a dictionary (which is fast)."
   ]
  },
  {
   "cell_type": "code",
   "execution_count": 20,
   "metadata": {
    "colab": {
     "base_uri": "https://localhost:8080/"
    },
    "id": "W0EyJSN2mMZ_",
    "outputId": "30952c20-be3b-4a78-e15e-2629d2bb9196"
   },
   "outputs": [],
   "source": [
    "# Create matrices\n",
    "R = sp.csr_matrix((ratings.rating, (ratings.user, ratings.item))) # input is (data, (rows, columns))\n",
    "R_dok = R.todok()"
   ]
  },
  {
   "cell_type": "markdown",
   "metadata": {},
   "source": [
    "Let's check that it worked:"
   ]
  },
  {
   "cell_type": "code",
   "execution_count": 21,
   "metadata": {
    "colab": {
     "base_uri": "https://localhost:8080/"
    },
    "id": "y0nWfDQ7mMZ_",
    "outputId": "c0bae6a9-bc38-4e9e-a7ee-a0ece7604760"
   },
   "outputs": [
    {
     "name": "stdout",
     "output_type": "stream",
     "text": [
      "There are 610 users, 9724 movies, and 100836 ratings.\n",
      "R[0, 124] value is  5.0\n",
      "R_dok[(0, 124)] value is  5.0\n"
     ]
    }
   ],
   "source": [
    "# Check dimensions\n",
    "m = R.shape[1]\n",
    "n = R.shape[0]\n",
    "numRatings = R.count_nonzero()\n",
    "print(f'There are {n} users, {m} movies, and {numRatings} ratings.')\n",
    "\n",
    "# A simple test: user 0 item 124 should have a rating of 5\n",
    "print(\"R[0, 124] value is \", R[0, 124])\n",
    "print(\"R_dok[(0, 124)] value is \", R_dok[(0, 124)])"
   ]
  },
  {
   "cell_type": "markdown",
   "metadata": {
    "id": "70Le4YNQmMZ_"
   },
   "source": [
    "The fun starts here! :)"
   ]
  },
  {
   "cell_type": "markdown",
   "metadata": {
    "id": "-Ov2ihAWmMZ_"
   },
   "source": [
    "### User Average Ratings"
   ]
  },
  {
   "cell_type": "markdown",
   "metadata": {
    "id": "i2MgtshPmMZ_"
   },
   "source": [
    "Let's first compute the average rating of each user. This will be useful for mean-centering, i.e., when computing similarities, as well as for making predictions."
   ]
  },
  {
   "cell_type": "code",
   "execution_count": 22,
   "metadata": {
    "colab": {
     "base_uri": "https://localhost:8080/"
    },
    "id": "-j329hh3mMZ_",
    "outputId": "49e72da6-cf32-4767-ba93-91b356168e03"
   },
   "outputs": [
    {
     "name": "stdout",
     "output_type": "stream",
     "text": [
      "User averages: [4.3664 3.9483 2.4359 ... 3.1342 3.2703 3.6886]\n"
     ]
    }
   ],
   "source": [
    "# For each user, sum ratings \n",
    "user_sums = R.sum(axis=1).A1       # axis = 1 sums over columns, A1 to convert matrix to 1-D array\n",
    "# Count number of movies rated for each user\n",
    "user_cnts = np.diff(R.indptr)\n",
    "# Compute average\n",
    "user_avgs = user_sums / user_cnts\n",
    "print(\"User averages:\", user_avgs)"
   ]
  },
  {
   "cell_type": "markdown",
   "metadata": {
    "id": "OrcGaqpVmMZ_"
   },
   "source": [
    "This [stack overflow thread](https://stackoverflow.com/questions/52299420/scipy-csr-matrix-understand-indptr) explains the method `indptr` for a sparse matrix in scipy clearly. Recommended to read for those who are inerested or got confused with the above code."
   ]
  },
  {
   "cell_type": "markdown",
   "metadata": {
    "id": "PcfoifKSmMZ_"
   },
   "source": [
    "### Compute User-User Similarity \n",
    "\n",
    "We will compute the **mean-centered cosine similarity** between two users $u$ and $v$:\n",
    "$$w_{uv}=\\frac{\\sum_{i \\in I_u \\cap I_v}(r_{ui}-\\bar{r_u})(r_{vi}-\\bar{r_v})}{\\sqrt{\\sum_{i \\in I_u}(r_{ui}-\\bar{r_u})^2}\\sqrt{\\sum_{i \\in I_v}(r_{vi}-\\bar{r_v})^2}}= \\frac{\\langle \\overrightarrow{u} , \\overrightarrow{v} \\rangle}{||\\overrightarrow{u}|| \\cdot ||\\overrightarrow{v}||} $$\n",
    "\n",
    "where $r_{ui}$ is the rating for user $u$ and movie $i$, $\\bar{r_u}$ is the average rating of user $u$, and $I_u$ is the set of movies rated by user $u$, and $\\overrightarrow{u}$ is the mean-centered ratings vector of user $u$. \n",
    "\n",
    "**Note**: from now on, we work with `R` and `R_dok`. This means that we work with the index IDX, not the identifiers anymore. \n",
    "\n",
    "*Useful numpy tricks*:\n",
    "- To subtract a scalar value `a` from all nonzero entries of a sparse vector `x`, do: `x.data = x.data - a`\n",
    "- The dot product of a sparse vector `x` to sparse vector `y` is: `x.dot(y.T)`\n",
    "- The norm of a sparse vector `x` is: `norm(x)`\n",
    "- If a sparse vector `x` has only a single item, you can access it by: `x.A.item()`. Note that `x.A` returns the dense representation of sparse vector `x`.\n",
    "\n",
    "Let's illustrate these tricks: "
   ]
  },
  {
   "cell_type": "code",
   "execution_count": 23,
   "metadata": {
    "colab": {
     "base_uri": "https://localhost:8080/"
    },
    "id": "Z0BSmak3mMZ_",
    "outputId": "bedcf152-f1e4-4897-8186-e3d8599e832e"
   },
   "outputs": [
    {
     "name": "stdout",
     "output_type": "stream",
     "text": [
      "Data type: <class 'numpy.ndarray'>\n",
      "Dot product:   (0, 0)\t40.0\n",
      "Dot product as matrix: [[40.]]\n",
      "Dot product value: 40.0\n"
     ]
    }
   ],
   "source": [
    "u = R[0,:].copy()  # User 0 ratings\n",
    "v = R[1,:].copy()  # User 1 ratings\n",
    "print('Data type:', type(u.data))\n",
    "print('Dot product:', u.dot(v.T))\n",
    "print('Dot product as matrix:', u.dot(v.T).A)\n",
    "print('Dot product value:', u.dot(v.T).A.item()) "
   ]
  },
  {
   "cell_type": "markdown",
   "metadata": {},
   "source": [
    "Ok, now that it is clear, we define a function to compute the pairwise mean-centered cosine similarity: "
   ]
  },
  {
   "cell_type": "code",
   "execution_count": 24,
   "metadata": {
    "id": "-u_tGHy9mMaA"
   },
   "outputs": [],
   "source": [
    "def compute_pairwise_user_similarity(u_id, v_id):\n",
    "    \"\"\"Computes the cosine similarity between two user IDX.\n",
    "            sim(u,v)=dot(u,v)/norm(u)*norm(v)\n",
    "    \"\"\"\n",
    "    # Extract users ratings\n",
    "    u = R[u_id,:].copy()    # User u ratings\n",
    "    v = R[v_id,:].copy()    # User v ratings\n",
    "    \n",
    "    # Compute numerator, i.e., dot product of the mean centered arrays\n",
    "    u.data = u.data - user_avgs[u_id]   # Mean-centered ratings vector of user u\n",
    "    v.data = v.data - user_avgs[v_id]   # Mean-centered ratings vector of user v    \n",
    "    numerator =  (u.dot(v.T)).A.item()  # Value of dot product\n",
    "    \n",
    "    # Compute demoninator, i.e., product of the norms\n",
    "    denominator = norm(u) * norm(v)\n",
    "    \n",
    "    # Compute similarity\n",
    "    if denominator == 0:\n",
    "        similarity = 0.;\n",
    "    else:\n",
    "        similarity = numerator/denominator\n",
    "    \n",
    "    return similarity"
   ]
  },
  {
   "cell_type": "markdown",
   "metadata": {
    "id": "bp4wOE0QmMaA"
   },
   "source": [
    "The similarity will be between -1 and +1, from very dissimilar to very similar. Let's test it:"
   ]
  },
  {
   "cell_type": "code",
   "execution_count": 25,
   "metadata": {
    "colab": {
     "base_uri": "https://localhost:8080/"
    },
    "id": "ZqMUMqVFmMaA",
    "outputId": "8ea8baad-6c2e-4788-f4e4-5358d3cd92ff"
   },
   "outputs": [
    {
     "name": "stdout",
     "output_type": "stream",
     "text": [
      "0.05159\n"
     ]
    }
   ],
   "source": [
    "sim = compute_pairwise_user_similarity(3, 9) # Similarity of user 3 and user 9\n",
    "print(round(sim, 5))"
   ]
  },
  {
   "cell_type": "markdown",
   "metadata": {
    "id": "pmZt2vQEmMaA"
   },
   "source": [
    "### User to all Users Similarities\n",
    "\n",
    "The following functions compute the mean-centered cosine similarities of a given user to all other users. We'll try two techniques:\n",
    "1. We first use the `compute_pairwise_user_similarity` function defined above, and loop through all other users;\n",
    "2. We try to avoid the for loop and not invoke `compute_pairwise_user_similarity`. The idea is to obtain a copy, `R_copy`, of matrix `R` that has its rows mean-centered and normalized. This way the given user can be represented by a mean-centered and normalized vector `u`. Then, to obtain the similarity of the user to all others, one needs to take the dot product `R_copy.dot(u.T)`."
   ]
  },
  {
   "cell_type": "code",
   "execution_count": 26,
   "metadata": {
    "id": "myKa5Gn8mMaA"
   },
   "outputs": [],
   "source": [
    "# Approach 1: Loop and pairwise_user_similarity\n",
    "def compute_user_similarities(u_id):\n",
    "    uU = np.empty(n)     # Array of n users\n",
    "    # Loop through users\n",
    "    for v_id in range(n):\n",
    "        sim = compute_pairwise_user_similarity(u_id, v_id)\n",
    "        uU[v_id] = sim   \n",
    "    return uU\n",
    "\n",
    "# Approach 2: Mean-center normalized R & dot product\n",
    "def compute_user_similarities_fast(u_id):\n",
    "    uU = np.empty(n)\n",
    "    R_copy = R.copy()\n",
    "    # Repeat each user_avg, user_cnt times (number of movies rated for each user)\n",
    "    user_avgs_repeated = np.repeat(user_avgs, user_cnts)\n",
    "    # Mean-center R_copy\n",
    "    R_copy.data -= user_avgs_repeated    \n",
    "    # Normalize rows to unit norm\n",
    "    R_copy = pp.normalize(R_copy, axis=1) # normalize each row: elements divided by the row norm\n",
    "    # Extract ratings of user u\n",
    "    u = R_copy[u_id, :]\n",
    "    # Compute simarity (dot product)\n",
    "    uU = R_copy.dot(u.T).A.flatten() # dot product, convert to dense matrix, then flatten\n",
    "    return uU"
   ]
  },
  {
   "cell_type": "markdown",
   "metadata": {
    "id": "k4vu1283mMaA"
   },
   "source": [
    "Let's time our two functions to check the difference:"
   ]
  },
  {
   "cell_type": "code",
   "execution_count": 27,
   "metadata": {
    "colab": {
     "base_uri": "https://localhost:8080/"
    },
    "id": "EGWJcCprmMaA",
    "outputId": "4c59ddc3-dd9c-4b82-fa42-842444744bb5"
   },
   "outputs": [
    {
     "name": "stdout",
     "output_type": "stream",
     "text": [
      "Time for the first function with for loop= 0.18233108520507812\n",
      "Time for second function using R_copy= 0.0039560794830322266\n"
     ]
    }
   ],
   "source": [
    "start = time.time()\n",
    "uU = compute_user_similarities(25)\n",
    "end = time.time()\n",
    "print(\"Time for the first function with for loop=\", (end-start))\n",
    "    \n",
    "start = time.time()\n",
    "uU = compute_user_similarities_fast(25)\n",
    "end = time.time()\n",
    "print(\"Time for second function using R_copy=\", (end-start))"
   ]
  },
  {
   "cell_type": "markdown",
   "metadata": {},
   "source": [
    "As expected, our second function is much faster!\n",
    "\n",
    "Let's explore a bit more the similarity between user index 25 and all other users. "
   ]
  },
  {
   "cell_type": "code",
   "execution_count": 28,
   "metadata": {
    "colab": {
     "base_uri": "https://localhost:8080/"
    },
    "id": "V0fEuvUqmMaA",
    "outputId": "391c8325-2d4e-4e40-bb9c-f9e641ff9c7e"
   },
   "outputs": [
    {
     "name": "stdout",
     "output_type": "stream",
     "text": [
      "Dimension of uU: (610,)\n",
      "Similarity of user IDX 25 to all the other users: [-0.0135  0.      0.     ...  0.0374  0.1609  0.0467]\n",
      "Similarity between users IDX 25 and IDX 74: -0.02502\n"
     ]
    }
   ],
   "source": [
    "print('Dimension of uU:', uU.shape)\n",
    "print('Similarity of user IDX 25 to all the other users:', uU)\n",
    "print('Similarity between users IDX 25 and IDX 74:', round(uU[74], 5)) "
   ]
  },
  {
   "cell_type": "markdown",
   "metadata": {},
   "source": [
    "Let's find the most similar user to user index 25. We sort our similarity array and extract the penultimate user index (since the last one is user 25 with a similarity of 1)."
   ]
  },
  {
   "cell_type": "code",
   "execution_count": 29,
   "metadata": {},
   "outputs": [
    {
     "name": "stdout",
     "output_type": "stream",
     "text": [
      "The user most similar to user index 25 is: 511\n"
     ]
    }
   ],
   "source": [
    "u25_most_similar = np.argsort(uU)[-2]\n",
    "print(f'The user most similar to user index 25 is: {u25_most_similar}')"
   ]
  },
  {
   "cell_type": "markdown",
   "metadata": {
    "id": "_wibGe5amMaA"
   },
   "source": [
    "Now let's compare the top 10 rated movies by user index 25 and user index 511, who is the most similar user to user index 25. We use our previously-defined function to show the movie posters of the top rated movies of a user. Note that we have to convert user index IDX to user identifiers, using our dictionary:"
   ]
  },
  {
   "cell_type": "code",
   "execution_count": 30,
   "metadata": {
    "colab": {
     "base_uri": "https://localhost:8080/",
     "height": 191
    },
    "id": "c9mYhs0ZmMaA",
    "outputId": "92137444-6215-49db-93a1-58d46c07719b"
   },
   "outputs": [
    {
     "name": "stdout",
     "output_type": "stream",
     "text": [
      "User 26 watched 21 movies.\n"
     ]
    },
    {
     "data": {
      "text/html": [
       "<img src=\"http://image.tmdb.org/t/p/w200/d5iIlFn5s0ImszYzBPb8JPIfbXD.jpg\" style=\"display:inline;margin:1px\" width=\"100\"/><img src=\"http://image.tmdb.org/t/p/w200/lwTE6cUhGxRaJvQ5VPdletIGDPh.jpg\" style=\"display:inline;margin:1px\" width=\"100\"/><img src=\"http://image.tmdb.org/t/p/w200/cij4dd21v2Rk2YtUQbV5kW69WB2.jpg\" style=\"display:inline;margin:1px\" width=\"100\"/><img src=\"http://image.tmdb.org/t/p/w200/b3rEtLKyOnF89mcK75GXDXdmOEf.jpg\" style=\"display:inline;margin:1px\" width=\"100\"/><img src=\"http://image.tmdb.org/t/p/w200/kFexXCzidkm4LwlgZqxsJsDQB5v.jpg\" style=\"display:inline;margin:1px\" width=\"100\"/><img src=\"http://image.tmdb.org/t/p/w200/uS9m8OBk1A8eM9I042bx8XXpqAq.jpg\" style=\"display:inline;margin:1px\" width=\"100\"/><img src=\"http://image.tmdb.org/t/p/w200/6yoghtyTpznpBik8EngEmJskVUO.jpg\" style=\"display:inline;margin:1px\" width=\"100\"/><img src=\"http://image.tmdb.org/t/p/w200/dtupntUFMD5iXBo8HLfALt2ET4R.jpg\" style=\"display:inline;margin:1px\" width=\"100\"/><img src=\"http://image.tmdb.org/t/p/w200/eBWkYsKvOVClb4pdgCuxxB8QaGY.jpg\" style=\"display:inline;margin:1px\" width=\"100\"/><img src=\"http://image.tmdb.org/t/p/w200/2fd7UrKcFp9xShEmDBGKHZeuWfe.jpg\" style=\"display:inline;margin:1px\" width=\"100\"/>"
      ],
      "text/plain": [
       "<IPython.core.display.HTML object>"
      ]
     },
     "metadata": {},
     "output_type": "display_data"
    }
   ],
   "source": [
    "show_movies_for_user(userIDX_to_userId[25])"
   ]
  },
  {
   "cell_type": "code",
   "execution_count": 31,
   "metadata": {},
   "outputs": [
    {
     "name": "stdout",
     "output_type": "stream",
     "text": [
      "User 512 watched 50 movies.\n"
     ]
    },
    {
     "data": {
      "text/html": [
       "<img src=\"http://image.tmdb.org/t/p/w200/d5iIlFn5s0ImszYzBPb8JPIfbXD.jpg\" style=\"display:inline;margin:1px\" width=\"100\"/><img src=\"http://image.tmdb.org/t/p/w200/lwTE6cUhGxRaJvQ5VPdletIGDPh.jpg\" style=\"display:inline;margin:1px\" width=\"100\"/><img src=\"http://image.tmdb.org/t/p/w200/b3rEtLKyOnF89mcK75GXDXdmOEf.jpg\" style=\"display:inline;margin:1px\" width=\"100\"/><img src=\"http://image.tmdb.org/t/p/w200/gt3iyguaCIw8DpQZI1LIN5TohM2.jpg\" style=\"display:inline;margin:1px\" width=\"100\"/><img src=\"http://image.tmdb.org/t/p/w200/2fd7UrKcFp9xShEmDBGKHZeuWfe.jpg\" style=\"display:inline;margin:1px\" width=\"100\"/><img src=\"http://image.tmdb.org/t/p/w200/2162lAT2MP36MyJd2sttmj5du5T.jpg\" style=\"display:inline;margin:1px\" width=\"100\"/><img src=\"http://image.tmdb.org/t/p/w200/arw2vcBveWOVZr6pxd9XTd1TdQa.jpg\" style=\"display:inline;margin:1px\" width=\"100\"/><img src=\"http://image.tmdb.org/t/p/w200/uS9m8OBk1A8eM9I042bx8XXpqAq.jpg\" style=\"display:inline;margin:1px\" width=\"100\"/><img src=\"http://image.tmdb.org/t/p/w200/sF1U4EUQS8YHUYjNl3pMGNIQyr0.jpg\" style=\"display:inline;margin:1px\" width=\"100\"/><img src=\"http://image.tmdb.org/t/p/w200/kWI2rF6RAnRtEjfBlZgsXumgOm5.jpg\" style=\"display:inline;margin:1px\" width=\"100\"/>"
      ],
      "text/plain": [
       "<IPython.core.display.HTML object>"
      ]
     },
     "metadata": {},
     "output_type": "display_data"
    }
   ],
   "source": [
    "show_movies_for_user(userIDX_to_userId[u25_most_similar])"
   ]
  },
  {
   "cell_type": "markdown",
   "metadata": {},
   "source": [
    "Quite a few similar movies!"
   ]
  },
  {
   "cell_type": "markdown",
   "metadata": {
    "id": "D5CkBPfGmMaA"
   },
   "source": [
    "### Create User Neighborhood "
   ]
  },
  {
   "cell_type": "markdown",
   "metadata": {
    "id": "7kSjCeZ5mMaA"
   },
   "source": [
    "We're getting close to finalizing our recommender! The next step is to create the user neighborhood of a given user. \n",
    "\n",
    "We define another function that takes as input, the target user `u_idx` and the target item `i_idx` (i.e., movie), and uses as additional parameters the size `k` of the neighborhood and a flag `with_abs_sim`:\n",
    "- If `with_abs_sim` is `True`, the neighborhood should contain up to `k` users with the highest absolute similarity to the target user `u_idx`.\n",
    "- If `with_abs_sim` is `False`, the neighborhood should contain up to `k` users with the highest similarity to the target user `u_idx`.\n",
    "\n",
    "The output of the function is `nh`, a `Dictionary` containing key-value entries of the form `v_idx : sim(u_idx, v_idx)`, where `v_idx` is another user and `sim(u_idx, v_idx)` is the similarity between `u_idx` and `v_idx`.\n",
    "\n",
    "**Note:** The neighborhood of the target user should not contain itself, i.e., `u_idx`, and only include users that have rated the target item `i_idx`.\n",
    "\n",
    "*Useful tricks*:\n",
    "- `np.absolute(x)` returns an array containing the absolute values of each element in array `x`.\n",
    "- `np.argsort(x)` returns an array with the indices that sort array `x` in *increasing* order.\n",
    "- `x[::-1]` returns the reversed array of `x`. So, `np.argsort(x)[::-1]` contains the indices that sort x in *decreasing* order.\n",
    "- To check if user `u_idx` has rated item `i_idx`, the `R_dok` view of the ratings matrix is helpful: `(u_idx, i_idx) in R_dok`"
   ]
  },
  {
   "cell_type": "code",
   "execution_count": 32,
   "metadata": {
    "id": "vBNqDjaDmMaA"
   },
   "outputs": [],
   "source": [
    "def create_user_neighborhood(u_idx, i_idx, k=5, with_abs_sim=False):\n",
    "    \"\"\" Neighborhood for user \"u_idx\" that have also watched item \"i_idx\"\n",
    "    \"\"\"\n",
    "    nh = {}  # the neighborhood dict with (user idx: similarity) entries\n",
    "    \n",
    "    # Compute similarities\n",
    "    uU = compute_user_similarities_fast(u_idx)\n",
    "    uU_copy = uU.copy() ## so that we can modify it, but also keep the original\n",
    "    \n",
    "    # Absolute similarity\n",
    "    if with_abs_sim:\n",
    "        uU_copy = np.absolute(uU_copy)  # we only care about the absolute value of the similarity\n",
    "    \n",
    "    # Derive the user_ids sorted by decreasing similarity (or absolute similarity) to u_id\n",
    "    user_ids =  np.argsort(uU_copy)[::-1]\n",
    "    \n",
    "    # Create neighborhood\n",
    "    count = 0\n",
    "    for v_idx in user_ids:\n",
    "        if v_idx == u_idx: # ignore self\n",
    "            continue     # go to the next iterate of the loop \n",
    "        if (v_idx, i_idx) not in R_dok:   # ignore users that have not rated i_idx\n",
    "            continue\n",
    "        nh[v_idx] = uU[v_idx]\n",
    "        count += 1\n",
    "        if count == k:  # at most k neighbors\n",
    "            break\n",
    "    \n",
    "    return nh"
   ]
  },
  {
   "cell_type": "markdown",
   "metadata": {},
   "source": [
    "Let's try our function for user index 25 and their top rated movie, namely \"Pulp Fiction\", which has a movie identifier of 296. Note that we need to convert the movie identifier to the movie index using our dictionary."
   ]
  },
  {
   "cell_type": "code",
   "execution_count": 33,
   "metadata": {
    "colab": {
     "base_uri": "https://localhost:8080/"
    },
    "id": "otmCwemxmMaA",
    "outputId": "ea5b424d-b1a4-4e2e-ecce-934b4f7d54c9"
   },
   "outputs": [
    {
     "name": "stdout",
     "output_type": "stream",
     "text": [
      "Neighborhood of user 25 for Pulp Fiction (1994): {511: 0.4060008620946268, 80: 0.2965299409112597, 565: 0.2594773967082045, 587: 0.2575706211019028, 601: 0.24983026647965256}\n"
     ]
    }
   ],
   "source": [
    "# Compute neighborhood for user (idx) 25 and movie (id) 296 (Pulp Fiction)\n",
    "nh = create_user_neighborhood(u_idx=25, i_idx=movieId_to_movieIDX[296])\n",
    "print(f'Neighborhood of user 25 for {get_name_for_movie_id(movie_id=296)}: {nh}')"
   ]
  },
  {
   "cell_type": "markdown",
   "metadata": {
    "id": "gTl-1zqlmMaA"
   },
   "source": [
    "### Predict a Rating \n",
    "\n",
    "Finally! We can now try to predict a rating of a given user who has not rated an item so far.\n",
    "\n",
    "The following function predicts the rating user `u_idx` would give to item `i_idx`. It uses the flag `with_deviations` to make the prediction:\n",
    "- If `with_deviations` is `True`, the prediction is made over *rating deviations*:\n",
    "$$ s(u,i) = \\overline{r_u} + \\frac{\\sum_{v \\in N(u;i)}w_{uv} (r_{vi}-\\overline{r_v})}{\\sum_{v \\in N(u;i)} |w_{uv}|} .$$\n",
    "- If `with_deviations` is `False`, the prediction is made directly over ratings:\n",
    "$$ s(u,i) = \\frac{\\sum_{v \\in N(u;i)}w_{uv} r_{vi}}{\\sum_{v \\in N(u;i)} |w_{uv}|} .$$\n",
    "\n",
    "The output of the function is the predicted rating `prediction`."
   ]
  },
  {
   "cell_type": "code",
   "execution_count": 34,
   "metadata": {
    "id": "-Sy7a_5UmMaA"
   },
   "outputs": [],
   "source": [
    "def predict_rating(u_idx, i_idx, k, with_deviations=True, with_abs_sim=False):\n",
    "    '''\n",
    "    Predict the rating of user u_idx for item i_idx \n",
    "    '''\n",
    "    \n",
    "    print(\"Movie name:\", get_name_for_movie_id(movie_id=movieIDX_to_movieId[i_idx]))\n",
    "    \n",
    "    if (u_idx, i_idx) in R_dok:\n",
    "        print(f'User idx {u_idx} has rated movie idx {i_idx} with {R[u_idx, i_idx]}.')\n",
    "    else:\n",
    "        print(f'User idx {u_idx} has not rated movie idx {i_idx}.')\n",
    "    print(f'k: {k}, with_deviations: {with_deviations}, with_abs_sim: {with_abs_sim}')\n",
    "    \n",
    "    # Neighborhood\n",
    "    nh = create_user_neighborhood(u_idx, i_idx, k=k, with_abs_sim=with_abs_sim)\n",
    "\n",
    "    # Compute neighborhood weighted average (fraction in prediction formula)\n",
    "    sum_scores = 0.      # numerator\n",
    "    sum_weights = 0.     # denominator\n",
    "    for neighbor_idx, similarity in nh.items():\n",
    "        # Find the neighbor rating from R matrix.\n",
    "        neighbor_rating = R[neighbor_idx, i_idx]\n",
    "        if with_deviations:\n",
    "            # In this case similarity should be multiplied by (neighbor_rating - neighbor_avg)\n",
    "            sum_scores += similarity * (neighbor_rating - user_avgs[neighbor_idx])\n",
    "        else:\n",
    "            # In this case we do not have the average\n",
    "            sum_scores += similarity * neighbor_rating\n",
    "        sum_weights += abs(similarity)\n",
    "    neighborhood_weighted_avg = sum_scores/sum_weights\n",
    "    \n",
    "    # Compute and print prediction\n",
    "    if with_deviations:\n",
    "        prediction = user_avgs[u_idx] + neighborhood_weighted_avg\n",
    "        print(f'Prediction: {prediction} (user average: {user_avgs[u_idx]}, offset: {neighborhood_weighted_avg})')\n",
    "    else:\n",
    "        prediction = neighborhood_weighted_avg\n",
    "        print(f'Prediction: {prediction} (user average: {user_avgs[u_idx]})')\n",
    "        \n",
    "    return prediction"
   ]
  },
  {
   "cell_type": "markdown",
   "metadata": {
    "id": "MMa5Di5ImMaA"
   },
   "source": [
    "Let's try to predict the ratings that user index 25 would give to some movies. First, we'll see how our prediction compares to the rating user index 25 gave to Pulp Fiction (4.0):"
   ]
  },
  {
   "cell_type": "code",
   "execution_count": 35,
   "metadata": {
    "colab": {
     "base_uri": "https://localhost:8080/"
    },
    "id": "k4s_6CFfmMaA",
    "outputId": "1319e421-231a-45c4-9781-995b47477849"
   },
   "outputs": [
    {
     "name": "stdout",
     "output_type": "stream",
     "text": [
      "Movie name: Pulp Fiction (1994)\n",
      "User idx 25 has rated movie idx 257 with 4.0.\n",
      "k: 50, with_deviations: True, with_abs_sim: True\n",
      "Prediction: 4.099663760852172 (user average: 3.238095238095238, offset: 0.861568522756934)\n"
     ]
    },
    {
     "data": {
      "text/plain": [
       "4.099663760852172"
      ]
     },
     "execution_count": 35,
     "metadata": {},
     "output_type": "execute_result"
    }
   ],
   "source": [
    "predict_rating(25, movieId_to_movieIDX[296], k=50, with_deviations=True, with_abs_sim=True) "
   ]
  },
  {
   "cell_type": "markdown",
   "metadata": {},
   "source": [
    "Let's predict the rating for a movie not seen by user index 25, such as the Lion King:"
   ]
  },
  {
   "cell_type": "code",
   "execution_count": 36,
   "metadata": {},
   "outputs": [
    {
     "name": "stdout",
     "output_type": "stream",
     "text": [
      "Movie name: Lion King, The (1994)\n",
      "User idx 25 has not rated movie idx 322.\n",
      "k: 50, with_deviations: True, with_abs_sim: True\n",
      "Prediction: 3.524249977554267 (user average: 3.238095238095238, offset: 0.2861547394590289)\n"
     ]
    },
    {
     "data": {
      "text/plain": [
       "3.524249977554267"
      ]
     },
     "execution_count": 36,
     "metadata": {},
     "output_type": "execute_result"
    }
   ],
   "source": [
    "predict_rating(25, movieId_to_movieIDX[364], k=50, with_deviations=True, with_abs_sim=True) "
   ]
  },
  {
   "cell_type": "markdown",
   "metadata": {
    "id": "eLWjvjQc1MjX"
   },
   "source": [
    "### Recommendation\n",
    "\n",
    "We will recommend 5 movies to a user. Of course, the user must not have already watched the movies.\n",
    "Let's select one user index, e.g., 91. Feel free to explore other users (you can pick any integer between 0 and 609)."
   ]
  },
  {
   "cell_type": "code",
   "execution_count": 37,
   "metadata": {
    "colab": {
     "base_uri": "https://localhost:8080/",
     "height": 191
    },
    "id": "Puvko-HOw7yT",
    "outputId": "2d4af2d5-d97c-4f15-f345-172e9ea701f0"
   },
   "outputs": [
    {
     "name": "stdout",
     "output_type": "stream",
     "text": [
      "User 92 watched 24 movies.\n"
     ]
    },
    {
     "data": {
      "text/html": [
       "<img src=\"http://image.tmdb.org/t/p/w200/k4KW2CUkzDKaCy4H4cS02cO8gvV.jpg\" style=\"display:inline;margin:1px\" width=\"100\"/><img src=\"http://image.tmdb.org/t/p/w200/wnLbqoGRGdnPNjMV6rY75wgRamd.jpg\" style=\"display:inline;margin:1px\" width=\"100\"/><img src=\"http://image.tmdb.org/t/p/w200/ujERk3aKABXU3NDXOAxEQYTHe9A.jpg\" style=\"display:inline;margin:1px\" width=\"100\"/><img src=\"http://image.tmdb.org/t/p/w200/9W49fy5G7v9Ed3CXtvMi41YqZtt.jpg\" style=\"display:inline;margin:1px\" width=\"100\"/><img src=\"http://image.tmdb.org/t/p/w200/mVeoqL37gzhMXQVpONi9DGOQ3tZ.jpg\" style=\"display:inline;margin:1px\" width=\"100\"/><img src=\"http://image.tmdb.org/t/p/w200/mmGEB6ly9OG8SYVfvAoa6QqHNvN.jpg\" style=\"display:inline;margin:1px\" width=\"100\"/><img src=\"http://image.tmdb.org/t/p/w200/fJJOs1iyrhKfZceANxoPxPwNGF1.jpg\" style=\"display:inline;margin:1px\" width=\"100\"/><img src=\"http://image.tmdb.org/t/p/w200/kXdBcDh2EbgSIf4Oo1dxKapZM2f.jpg\" style=\"display:inline;margin:1px\" width=\"100\"/><img src=\"http://image.tmdb.org/t/p/w200/7LwSrvFA0gz1KAlcrGcinoQPene.jpg\" style=\"display:inline;margin:1px\" width=\"100\"/><img src=\"http://image.tmdb.org/t/p/w200/447c8Te3DXC46rQvDEixKGO4dS6.jpg\" style=\"display:inline;margin:1px\" width=\"100\"/>"
      ],
      "text/plain": [
       "<IPython.core.display.HTML object>"
      ]
     },
     "metadata": {},
     "output_type": "display_data"
    },
    {
     "name": "stdout",
     "output_type": "stream",
     "text": [
      "User 92 watched 24 movies.\n"
     ]
    },
    {
     "data": {
      "text/html": [
       "<div>\n",
       "<style scoped>\n",
       "    .dataframe tbody tr th:only-of-type {\n",
       "        vertical-align: middle;\n",
       "    }\n",
       "\n",
       "    .dataframe tbody tr th {\n",
       "        vertical-align: top;\n",
       "    }\n",
       "\n",
       "    .dataframe thead th {\n",
       "        text-align: right;\n",
       "    }\n",
       "</style>\n",
       "<table border=\"1\" class=\"dataframe\">\n",
       "  <thead>\n",
       "    <tr style=\"text-align: right;\">\n",
       "      <th></th>\n",
       "      <th>movieId</th>\n",
       "      <th>title</th>\n",
       "      <th>genres</th>\n",
       "    </tr>\n",
       "  </thead>\n",
       "  <tbody>\n",
       "    <tr>\n",
       "      <th>95</th>\n",
       "      <td>107</td>\n",
       "      <td>Muppet Treasure Island (1996)</td>\n",
       "      <td>Adventure|Children|Comedy|Musical</td>\n",
       "    </tr>\n",
       "    <tr>\n",
       "      <th>285</th>\n",
       "      <td>327</td>\n",
       "      <td>Tank Girl (1995)</td>\n",
       "      <td>Action|Comedy|Sci-Fi</td>\n",
       "    </tr>\n",
       "    <tr>\n",
       "      <th>649</th>\n",
       "      <td>837</td>\n",
       "      <td>Matilda (1996)</td>\n",
       "      <td>Children|Comedy|Fantasy</td>\n",
       "    </tr>\n",
       "    <tr>\n",
       "      <th>773</th>\n",
       "      <td>1015</td>\n",
       "      <td>Homeward Bound: The Incredible Journey (1993)</td>\n",
       "      <td>Adventure|Children|Drama</td>\n",
       "    </tr>\n",
       "    <tr>\n",
       "      <th>779</th>\n",
       "      <td>1021</td>\n",
       "      <td>Angels in the Outfield (1994)</td>\n",
       "      <td>Children|Comedy</td>\n",
       "    </tr>\n",
       "    <tr>\n",
       "      <th>...</th>\n",
       "      <td>...</td>\n",
       "      <td>...</td>\n",
       "      <td>...</td>\n",
       "    </tr>\n",
       "    <tr>\n",
       "      <th>5972</th>\n",
       "      <td>35836</td>\n",
       "      <td>40-Year-Old Virgin, The (2005)</td>\n",
       "      <td>Comedy|Romance</td>\n",
       "    </tr>\n",
       "    <tr>\n",
       "      <th>6433</th>\n",
       "      <td>51662</td>\n",
       "      <td>300 (2007)</td>\n",
       "      <td>Action|Fantasy|War|IMAX</td>\n",
       "    </tr>\n",
       "    <tr>\n",
       "      <th>6527</th>\n",
       "      <td>54190</td>\n",
       "      <td>Across the Universe (2007)</td>\n",
       "      <td>Drama|Fantasy|Musical|Romance</td>\n",
       "    </tr>\n",
       "    <tr>\n",
       "      <th>6592</th>\n",
       "      <td>55282</td>\n",
       "      <td>30 Days of Night (2007)</td>\n",
       "      <td>Horror|Thriller</td>\n",
       "    </tr>\n",
       "    <tr>\n",
       "      <th>7075</th>\n",
       "      <td>69757</td>\n",
       "      <td>(500) Days of Summer (2009)</td>\n",
       "      <td>Comedy|Drama|Romance</td>\n",
       "    </tr>\n",
       "  </tbody>\n",
       "</table>\n",
       "<p>24 rows × 3 columns</p>\n",
       "</div>"
      ],
      "text/plain": [
       "      movieId                                          title  \\\n",
       "95        107                  Muppet Treasure Island (1996)   \n",
       "285       327                               Tank Girl (1995)   \n",
       "649       837                                 Matilda (1996)   \n",
       "773      1015  Homeward Bound: The Incredible Journey (1993)   \n",
       "779      1021                  Angels in the Outfield (1994)   \n",
       "...       ...                                            ...   \n",
       "5972    35836                 40-Year-Old Virgin, The (2005)   \n",
       "6433    51662                                     300 (2007)   \n",
       "6527    54190                     Across the Universe (2007)   \n",
       "6592    55282                        30 Days of Night (2007)   \n",
       "7075    69757                    (500) Days of Summer (2009)   \n",
       "\n",
       "                                 genres  \n",
       "95    Adventure|Children|Comedy|Musical  \n",
       "285                Action|Comedy|Sci-Fi  \n",
       "649             Children|Comedy|Fantasy  \n",
       "773            Adventure|Children|Drama  \n",
       "779                     Children|Comedy  \n",
       "...                                 ...  \n",
       "5972                     Comedy|Romance  \n",
       "6433            Action|Fantasy|War|IMAX  \n",
       "6527      Drama|Fantasy|Musical|Romance  \n",
       "6592                    Horror|Thriller  \n",
       "7075               Comedy|Drama|Romance  \n",
       "\n",
       "[24 rows x 3 columns]"
      ]
     },
     "metadata": {},
     "output_type": "display_data"
    },
    {
     "data": {
      "image/png": "[encoded data removed]",
      "text/plain": [
       "<Figure size 640x480 with 1 Axes>"
      ]
     },
     "metadata": {},
     "output_type": "display_data"
    }
   ],
   "source": [
    "# Choose a user (IDX) - between 0 and 609.\n",
    "user_IDX = 91\n",
    "\n",
    "# Print user ID using dictionary\n",
    "u_id = userIDX_to_userId[91]\n",
    "\n",
    "# Display movies that user has already watched\n",
    "show_movies_for_user(u_id)\n",
    "\n",
    "# Show genre histogram of the user\n",
    "show_genres_histogram_for_user(u_id)"
   ]
  },
  {
   "cell_type": "markdown",
   "metadata": {},
   "source": [
    "Let's now use our predictor function to predict the ratings user index 91 would give to movies they have not watched. We create a dictionary (i_id, rating) with the predicted ratings for the movies, and loop through our first 50 movies index. "
   ]
  },
  {
   "cell_type": "code",
   "execution_count": 38,
   "metadata": {
    "colab": {
     "base_uri": "https://localhost:8080/"
    },
    "id": "eHUdN39-2NMU",
    "outputId": "020d4898-fdfb-4b4c-8f6c-1a8679707947",
    "tags": []
   },
   "outputs": [
    {
     "name": "stdout",
     "output_type": "stream",
     "text": [
      "Movie name: Grumpier Old Men (1995)\n",
      "User idx 92 has not rated movie idx 2.\n",
      "k: 50, with_deviations: True, with_abs_sim: False\n",
      "Prediction: 4.025704325758416 (user average: 4.288659793814433, offset: -0.2629554680560172)\n",
      "Movie name: Waiting to Exhale (1995)\n",
      "User idx 92 has not rated movie idx 3.\n",
      "k: 50, with_deviations: True, with_abs_sim: False\n",
      "Prediction: 3.1840816143386945 (user average: 4.288659793814433, offset: -1.104578179475738)\n",
      "Movie name: Father of the Bride Part II (1995)\n",
      "User idx 92 has not rated movie idx 4.\n",
      "k: 50, with_deviations: True, with_abs_sim: False\n",
      "Prediction: 3.981276632632755 (user average: 4.288659793814433, offset: -0.30738316118167813)\n",
      "Movie name: Heat (1995)\n",
      "User idx 92 has not rated movie idx 5.\n",
      "k: 50, with_deviations: True, with_abs_sim: False\n",
      "Prediction: 4.738601085222784 (user average: 4.288659793814433, offset: 0.44994129140835104)\n",
      "Movie name: Sabrina (1995)\n",
      "User idx 92 has not rated movie idx 6.\n",
      "k: 50, with_deviations: True, with_abs_sim: False\n",
      "Prediction: 3.9832074096736427 (user average: 4.288659793814433, offset: -0.3054523841407902)\n",
      "Movie name: Tom and Huck (1995)\n",
      "User idx 92 has not rated movie idx 7.\n",
      "k: 50, with_deviations: True, with_abs_sim: False\n",
      "Prediction: 3.5457733108039102 (user average: 4.288659793814433, offset: -0.7428864830105228)\n",
      "Movie name: Sudden Death (1995)\n",
      "User idx 92 has not rated movie idx 8.\n",
      "k: 50, with_deviations: True, with_abs_sim: False\n",
      "Prediction: 4.046021475316584 (user average: 4.288659793814433, offset: -0.24263831849784906)\n",
      "Movie name: American President, The (1995)\n",
      "User idx 92 has not rated movie idx 10.\n",
      "k: 50, with_deviations: True, with_abs_sim: False\n",
      "Prediction: 4.5646458211039285 (user average: 4.288659793814433, offset: 0.2759860272894955)\n",
      "Movie name: Dracula: Dead and Loving It (1995)\n",
      "User idx 92 has not rated movie idx 11.\n",
      "k: 50, with_deviations: True, with_abs_sim: False\n",
      "Prediction: 3.919229469957519 (user average: 4.288659793814433, offset: -0.3694303238569136)\n",
      "Movie name: Balto (1995)\n",
      "User idx 92 has not rated movie idx 12.\n",
      "k: 50, with_deviations: True, with_abs_sim: False\n",
      "Prediction: 4.055336793536002 (user average: 4.288659793814433, offset: -0.23332300027843073)\n",
      "Movie name: Nixon (1995)\n",
      "User idx 92 has not rated movie idx 13.\n",
      "k: 50, with_deviations: True, with_abs_sim: False\n",
      "Prediction: 4.434694258563303 (user average: 4.288659793814433, offset: 0.14603446474886994)\n",
      "Movie name: Casino (1995)\n",
      "User idx 92 has not rated movie idx 15.\n",
      "k: 50, with_deviations: True, with_abs_sim: False\n",
      "Prediction: 4.728942778564132 (user average: 4.288659793814433, offset: 0.44028298474969907)\n",
      "Movie name: Sense and Sensibility (1995)\n",
      "User idx 92 has not rated movie idx 16.\n",
      "k: 50, with_deviations: True, with_abs_sim: False\n",
      "Prediction: 4.417836087527103 (user average: 4.288659793814433, offset: 0.12917629371267053)\n",
      "Movie name: Four Rooms (1995)\n",
      "User idx 92 has not rated movie idx 17.\n",
      "k: 50, with_deviations: True, with_abs_sim: False\n",
      "Prediction: 4.372993022558058 (user average: 4.288659793814433, offset: 0.08433322874362453)\n",
      "Movie name: Ace Ventura: When Nature Calls (1995)\n",
      "User idx 92 has not rated movie idx 18.\n",
      "k: 50, with_deviations: True, with_abs_sim: False\n",
      "Prediction: 3.5572393598468346 (user average: 4.288659793814433, offset: -0.7314204339675984)\n",
      "Movie name: Money Train (1995)\n",
      "User idx 92 has not rated movie idx 19.\n",
      "k: 50, with_deviations: True, with_abs_sim: False\n",
      "Prediction: 3.697722645889957 (user average: 4.288659793814433, offset: -0.590937147924476)\n",
      "Movie name: Get Shorty (1995)\n",
      "User idx 92 has not rated movie idx 20.\n",
      "k: 50, with_deviations: True, with_abs_sim: False\n",
      "Prediction: 4.244133258022939 (user average: 4.288659793814433, offset: -0.044526535791494105)\n",
      "Movie name: Copycat (1995)\n",
      "User idx 92 has not rated movie idx 21.\n",
      "k: 50, with_deviations: True, with_abs_sim: False\n",
      "Prediction: 4.257153279165917 (user average: 4.288659793814433, offset: -0.031506514648516455)\n",
      "Movie name: Assassins (1995)\n",
      "User idx 92 has not rated movie idx 22.\n",
      "k: 50, with_deviations: True, with_abs_sim: False\n",
      "Prediction: 3.495080188758986 (user average: 4.288659793814433, offset: -0.7935796050554469)\n",
      "Movie name: Powder (1995)\n",
      "User idx 92 has not rated movie idx 23.\n",
      "k: 50, with_deviations: True, with_abs_sim: False\n",
      "Prediction: 4.20992680130468 (user average: 4.288659793814433, offset: -0.07873299250975349)\n",
      "Movie name: Leaving Las Vegas (1995)\n",
      "User idx 92 has not rated movie idx 24.\n",
      "k: 50, with_deviations: True, with_abs_sim: False\n",
      "Prediction: 4.343349084442322 (user average: 4.288659793814433, offset: 0.054689290627889936)\n",
      "Movie name: Othello (1995)\n",
      "User idx 92 has not rated movie idx 25.\n",
      "k: 50, with_deviations: True, with_abs_sim: False\n",
      "Prediction: 4.431261161034639 (user average: 4.288659793814433, offset: 0.14260136722020644)\n",
      "Movie name: Now and Then (1995)\n",
      "User idx 92 has not rated movie idx 26.\n",
      "k: 50, with_deviations: True, with_abs_sim: False\n",
      "Prediction: 3.41562017682343 (user average: 4.288659793814433, offset: -0.8730396169910026)\n",
      "Movie name: Persuasion (1995)\n",
      "User idx 92 has not rated movie idx 27.\n",
      "k: 50, with_deviations: True, with_abs_sim: False\n",
      "Prediction: 4.792814043732249 (user average: 4.288659793814433, offset: 0.504154249917816)\n",
      "Movie name: City of Lost Children, The (Cité des enfants perdus, La) (1995)\n",
      "User idx 92 has not rated movie idx 28.\n",
      "k: 50, with_deviations: True, with_abs_sim: False\n",
      "Prediction: 4.359960007498354 (user average: 4.288659793814433, offset: 0.07130021368392107)\n",
      "Movie name: Shanghai Triad (Yao a yao yao dao waipo qiao) (1995)\n",
      "User idx 92 has not rated movie idx 29.\n",
      "k: 50, with_deviations: True, with_abs_sim: False\n",
      "Prediction: 2.3013702541733387 (user average: 4.288659793814433, offset: -1.987289539641094)\n",
      "Movie name: Dangerous Minds (1995)\n",
      "User idx 92 has not rated movie idx 30.\n",
      "k: 50, with_deviations: True, with_abs_sim: False\n",
      "Prediction: 4.032898719267501 (user average: 4.288659793814433, offset: -0.2557610745469322)\n",
      "Movie name: Twelve Monkeys (a.k.a. 12 Monkeys) (1995)\n",
      "User idx 92 has not rated movie idx 31.\n",
      "k: 50, with_deviations: True, with_abs_sim: False\n",
      "Prediction: 4.651753090527969 (user average: 4.288659793814433, offset: 0.36309329671353624)\n",
      "Movie name: Dead Man Walking (1995)\n",
      "User idx 92 has not rated movie idx 33.\n",
      "k: 50, with_deviations: True, with_abs_sim: False\n",
      "Prediction: 4.314049209829343 (user average: 4.288659793814433, offset: 0.02538941601491011)\n",
      "Movie name: It Takes Two (1995)\n",
      "User idx 92 has not rated movie idx 34.\n",
      "k: 50, with_deviations: True, with_abs_sim: False\n",
      "Prediction: 3.3886957693667474 (user average: 4.288659793814433, offset: -0.8999640244476855)\n",
      "Movie name: Clueless (1995)\n",
      "User idx 92 has not rated movie idx 35.\n",
      "k: 50, with_deviations: True, with_abs_sim: False\n",
      "Prediction: 3.88684653632231 (user average: 4.288659793814433, offset: -0.4018132574921231)\n",
      "Movie name: Cry, the Beloved Country (1995)\n",
      "User idx 92 has not rated movie idx 36.\n",
      "k: 50, with_deviations: True, with_abs_sim: False\n",
      "Prediction: 5.037236816679758 (user average: 4.288659793814433, offset: 0.7485770228653245)\n",
      "Movie name: Richard III (1995)\n",
      "User idx 92 has not rated movie idx 37.\n",
      "k: 50, with_deviations: True, with_abs_sim: False\n",
      "Prediction: 4.4138463949212525 (user average: 4.288659793814433, offset: 0.12518660110681928)\n",
      "Movie name: Dead Presidents (1995)\n",
      "User idx 92 has not rated movie idx 38.\n",
      "k: 50, with_deviations: True, with_abs_sim: False\n",
      "Prediction: 3.7418259344281726 (user average: 4.288659793814433, offset: -0.5468338593862602)\n",
      "Movie name: Restoration (1995)\n",
      "User idx 92 has not rated movie idx 39.\n",
      "k: 50, with_deviations: True, with_abs_sim: False\n",
      "Prediction: 3.9670379726559273 (user average: 4.288659793814433, offset: -0.3216218211585057)\n",
      "Movie name: Mortal Kombat (1995)\n",
      "User idx 92 has not rated movie idx 40.\n",
      "k: 50, with_deviations: True, with_abs_sim: False\n",
      "Prediction: 3.643551032941078 (user average: 4.288659793814433, offset: -0.6451087608733551)\n",
      "Movie name: To Die For (1995)\n",
      "User idx 92 has not rated movie idx 41.\n",
      "k: 50, with_deviations: True, with_abs_sim: False\n",
      "Prediction: 4.458496138282688 (user average: 4.288659793814433, offset: 0.1698363444682546)\n",
      "Movie name: How to Make an American Quilt (1995)\n",
      "User idx 92 has not rated movie idx 42.\n",
      "k: 50, with_deviations: True, with_abs_sim: False\n",
      "Prediction: 3.9497285199243612 (user average: 4.288659793814433, offset: -0.3389312738900717)\n",
      "Movie name: Seven (a.k.a. Se7en) (1995)\n",
      "User idx 92 has not rated movie idx 43.\n",
      "k: 50, with_deviations: True, with_abs_sim: False\n",
      "Prediction: 4.653727429257953 (user average: 4.288659793814433, offset: 0.3650676354435202)\n",
      "Movie name: Pocahontas (1995)\n",
      "User idx 92 has not rated movie idx 44.\n",
      "k: 50, with_deviations: True, with_abs_sim: False\n",
      "Prediction: 3.7321480115461387 (user average: 4.288659793814433, offset: -0.5565117822682941)\n",
      "Movie name: When Night Is Falling (1995)\n",
      "User idx 92 has not rated movie idx 45.\n",
      "k: 50, with_deviations: True, with_abs_sim: False\n",
      "Prediction: 3.4698012330203882 (user average: 4.288659793814433, offset: -0.8188585607940446)\n",
      "Movie name: Usual Suspects, The (1995)\n",
      "User idx 92 has not rated movie idx 46.\n",
      "k: 50, with_deviations: True, with_abs_sim: False\n",
      "Prediction: 4.954609109267358 (user average: 4.288659793814433, offset: 0.6659493154529251)\n",
      "Movie name: Mighty Aphrodite (1995)\n",
      "User idx 92 has not rated movie idx 47.\n",
      "k: 50, with_deviations: True, with_abs_sim: False\n",
      "Prediction: 4.182809388757852 (user average: 4.288659793814433, offset: -0.10585040505658092)\n",
      "Movie name: Lamerica (1994)\n",
      "User idx 92 has not rated movie idx 48.\n",
      "k: 50, with_deviations: True, with_abs_sim: False\n",
      "Prediction: 5.722930331736417 (user average: 4.288659793814433, offset: 1.4342705379219842)\n",
      "Movie name: Big Green, The (1995)\n",
      "User idx 92 has not rated movie idx 49.\n",
      "k: 50, with_deviations: True, with_abs_sim: False\n",
      "Prediction: 3.2372293365396088 (user average: 4.288659793814433, offset: -1.0514304572748239)\n"
     ]
    }
   ],
   "source": [
    "ratings_predicted = {}\n",
    "for i_id in range(50):\n",
    "    if (u_id, i_id) not in R_dok: # user should not have already watched the movie\n",
    "        #Predict rating of user for movie i_id\n",
    "        ratings_predicted[i_id] = predict_rating(u_id, i_id, k=50, with_deviations=True, with_abs_sim=False)    "
   ]
  },
  {
   "cell_type": "markdown",
   "metadata": {},
   "source": [
    "Finally, we print the top 5 predicted rating:"
   ]
  },
  {
   "cell_type": "code",
   "execution_count": 39,
   "metadata": {
    "colab": {
     "base_uri": "https://localhost:8080/"
    },
    "id": "Ge_nCTGFAN00",
    "outputId": "7e5d9c1f-78c3-4343-850c-24c631350cce",
    "tags": []
   },
   "outputs": [
    {
     "name": "stdout",
     "output_type": "stream",
     "text": [
      "Heat (1995)\n",
      "Persuasion (1995)\n",
      "Cry, the Beloved Country (1995)\n",
      "Usual Suspects, The (1995)\n",
      "Lamerica (1994)\n"
     ]
    }
   ],
   "source": [
    "# Sort dictionary and print top 5 movies\n",
    "top_ratings = sorted(ratings_predicted.values(), reverse=True)[:5] # first 5 movies\n",
    "for idx, rating in ratings_predicted.items():  \n",
    "    if rating in top_ratings:\n",
    "        print(get_name_for_movie_id(movieIDX_to_movieId[idx]))"
   ]
  },
  {
   "cell_type": "markdown",
   "metadata": {
    "id": "ynERFI7LQDlO"
   },
   "source": [
    "## Using the Surprise library\n",
    "\n",
    "[Surprise](http://surpriselib.com/) is a Python [scikit](https://projects.scipy.org/scikits.html) for building and analyzing recommender systems that deal with explicit rating data. You can install the package using the following code line in your terminal:\n",
    "\n",
    "```python\n",
    "pip install scikit-surprise\n",
    "```\n",
    "\n",
    "Alternatively, if pip does not work, you can use conda:\n",
    "\n",
    "```python\n",
    "conda install -c conda-forge scikit-surprise\n",
    "```\n",
    "\n",
    "We will use the 100k dataset from MovieLens, which is already available in the Surprise library. Information about the dataset is available [here](https://grouplens.org/datasets/movielens/).\n",
    "\n",
    "If you get the error `SSL: CERTIFICATE_VERIFY_FAILED` when importing the dataset, try the following code:\n",
    "```python\n",
    "import requests\n",
    "requests.packages.urllib3.disable_warnings()\n",
    "import ssl\n",
    "\n",
    "try:\n",
    "    _create_unverified_https_context = ssl._create_unverified_context\n",
    "except AttributeError:\n",
    "    # Legacy Python that doesn't verify HTTPS certificates by default\n",
    "    pass\n",
    "else:\n",
    "    # Handle target environment that doesn't support HTTPS verification\n",
    "    ssl._create_default_https_context = _create_unverified_https_context\n",
    "```"
   ]
  },
  {
   "cell_type": "code",
   "execution_count": 40,
   "metadata": {},
   "outputs": [],
   "source": [
    "# If you get the error SSL: CERTIFICATE_VERIFY_FAILED when importing the dataset, \n",
    "# uncomment the following:\n",
    "\n",
    "'''\n",
    "import requests\n",
    "requests.packages.urllib3.disable_warnings()\n",
    "import ssl\n",
    "\n",
    "try:\n",
    "    _create_unverified_https_context = ssl._create_unverified_context\n",
    "except AttributeError:\n",
    "    # Legacy Python that doesn't verify HTTPS certificates by default\n",
    "    pass\n",
    "else:\n",
    "    # Handle target environment that doesn't support HTTPS verification\n",
    "    ssl._create_default_https_context = _create_unverified_https_context    \n",
    "'''\n",
    "\n",
    "# Load data\n",
    "data = Dataset.load_builtin('ml-100k')"
   ]
  },
  {
   "cell_type": "code",
   "execution_count": 41,
   "metadata": {},
   "outputs": [
    {
     "name": "stdout",
     "output_type": "stream",
     "text": [
      "The dataset contains 1682 movies.\n",
      "The dataset contains 943 users.\n"
     ]
    }
   ],
   "source": [
    "# Training set\n",
    "trainset = data.build_full_trainset()\n",
    "\n",
    "# Number of movies\n",
    "print('The dataset contains {} movies.'.format(len(trainset.all_items())))\n",
    "\n",
    "# Number of movies\n",
    "print('The dataset contains {} users.'.format(len(trainset.all_users())))"
   ]
  },
  {
   "cell_type": "markdown",
   "metadata": {},
   "source": [
    "### Building a recommender system"
   ]
  },
  {
   "cell_type": "markdown",
   "metadata": {},
   "source": [
    "We will create a KNN model. The `KNNWithMeans` function is using as parameter:\n",
    "- `k`: (maximum) number of neighbors\n",
    "- `min_k`: minimum number of neighbors\n",
    "- `sim_options`: dictionary of options for the similarity measure. We are going to use:\n",
    "    - `'name': 'pearson'`: Pearson similarity which can be seen as mean-centered cosine similarity,\n",
    "    - `'user_based': True`: User-based collaborative filtering\n",
    "- `verbose`: whether to print trace messages of bias estimation, similarity, etc. \n",
    "\n",
    "Check the [Documentation](https://surprise.readthedocs.io/en/stable/knn_inspired.html) for further information."
   ]
  },
  {
   "cell_type": "code",
   "execution_count": 42,
   "metadata": {
    "id": "3aKb5IkH1bIQ"
   },
   "outputs": [],
   "source": [
    "# Define options\n",
    "sim_options = {\n",
    "    'name': 'pearson', \n",
    "    'user_based': True \n",
    "}\n",
    "\n",
    "# Create instance of class\n",
    "knn_means = KNNWithMeans(k=40, min_k=1, sim_options=sim_options, verbose=False)"
   ]
  },
  {
   "cell_type": "markdown",
   "metadata": {},
   "source": [
    "Next, we train our model and compute predictions on the test set (Note that the training might take a bit of time):"
   ]
  },
  {
   "cell_type": "code",
   "execution_count": 43,
   "metadata": {
    "id": "v83f8VHP1bGj"
   },
   "outputs": [],
   "source": [
    "# Fit model\n",
    "knn_means.fit(trainset)\n",
    "\n",
    "# Predict ratings for all pairs (u, i) that are NOT in the training set.\n",
    "testset = trainset.build_anti_testset() \n",
    "predictions = knn_means.test(testset)"
   ]
  },
  {
   "cell_type": "markdown",
   "metadata": {},
   "source": [
    "Let's check how the predictions look:"
   ]
  },
  {
   "cell_type": "code",
   "execution_count": 44,
   "metadata": {
    "colab": {
     "base_uri": "https://localhost:8080/"
    },
    "id": "4XEJj5f82-6g",
    "outputId": "f1109936-0fb6-4411-f1e9-19b022040f85"
   },
   "outputs": [
    {
     "data": {
      "text/plain": [
       "Prediction(uid='196', iid='302', r_ui=3.52986, est=4.034246763936509, details={'actual_k': 40, 'was_impossible': False})"
      ]
     },
     "execution_count": 44,
     "metadata": {},
     "output_type": "execute_result"
    }
   ],
   "source": [
    "# Examples of predictions\n",
    "predictions[0]"
   ]
  },
  {
   "cell_type": "markdown",
   "metadata": {},
   "source": [
    "Here are the output we get:\n",
    "- `uid` is the user id\n",
    "- `iid` is the item id\n",
    "- `r_ui` is the true rating\n",
    "- `est` is the estimated rating"
   ]
  },
  {
   "cell_type": "markdown",
   "metadata": {
    "id": "O_rhhcdM33s1"
   },
   "source": [
    "That's it!. In less than 10 lines, we managed to do the same as in the first part... Packages are great!"
   ]
  },
  {
   "cell_type": "markdown",
   "metadata": {
    "id": "yGCx7IflRsgR"
   },
   "source": [
    "### Visualizing the recommendations\n",
    "\n",
    "We have built the predictions. Now we can visualize them. We first write these helpers functions."
   ]
  },
  {
   "cell_type": "code",
   "execution_count": 45,
   "metadata": {},
   "outputs": [],
   "source": [
    "def read_item_names():\n",
    "    '''Read the u.item file from MovieLens 100-k dataset and return two\n",
    "    mappings to convert raw ids into movie names and movie names into raw ids.\n",
    "    '''\n",
    "\n",
    "    file_name = get_dataset_dir() + '/ml-100k/ml-100k/u.item'\n",
    "    rid_to_name = {}\n",
    "    name_to_rid = {}\n",
    "    with io.open(file_name, 'r', encoding='ISO-8859-1') as f:\n",
    "        for line in f:\n",
    "            line = line.split('|')\n",
    "            rid_to_name[line[0]] = line[1]\n",
    "            name_to_rid[line[1]] = line[0]\n",
    "\n",
    "    return rid_to_name, name_to_rid\n",
    "\n",
    "\n",
    "def get_top_n(predictions, n=10):\n",
    "    '''Return the top-N recommendation for each user from a set of predictions.\n",
    "\n",
    "    Args:\n",
    "        predictions(list of Prediction objects): The list of predictions, as\n",
    "            returned by the test method of an algorithm.\n",
    "        n(int): The number of recommendation to output for each user. Default\n",
    "            is 10.\n",
    "\n",
    "    Returns:\n",
    "    A dict where keys are user (raw) ids and values are lists of tuples:\n",
    "        [(raw item id, rating estimation), ...] of size n.\n",
    "    '''\n",
    "\n",
    "    # First map the predictions to each user.\n",
    "    top_n = defaultdict(list) # This is used to group a sequence of key-value pairs into a dictionary of lists\n",
    "    for uid, iid, true_r, est, _ in predictions:\n",
    "        top_n[uid].append((iid, est))\n",
    "\n",
    "    # Then sort the predictions for each user and retrieve the k highest ones.\n",
    "    for uid, user_ratings in top_n.items():\n",
    "        user_ratings.sort(key=lambda x: x[1], reverse=True)\n",
    "        top_n[uid] = user_ratings[:n]\n",
    "\n",
    "    return top_n"
   ]
  },
  {
   "cell_type": "markdown",
   "metadata": {},
   "source": [
    "We can see for each user what are the top recommended movies:"
   ]
  },
  {
   "cell_type": "code",
   "execution_count": 46,
   "metadata": {
    "colab": {
     "base_uri": "https://localhost:8080/",
     "height": 1000
    },
    "id": "TtlypKiCRkyx",
    "outputId": "a53cfe1b-49d7-4dfd-e13b-4c0694f661c9",
    "tags": []
   },
   "outputs": [
    {
     "name": "stdout",
     "output_type": "stream",
     "text": [
      "Recommended items for user id 135:  1463, 814, 1536, 1467, 1599, 1642, 1629, 1449, 1293, 1662\n",
      "\n",
      "Recommended movies for user id 135:  Boys, Les (1997), Great Day in Harlem, A (1994), Aiqing wansui (1994), Saint of Fort Washington, The (1993), Someone Else's America (1995), Some Mother's Son (1996), Nico Icon (1995), Pather Panchali (1955), Star Kid (1997), Rough Magic (1995)\n",
      "\n",
      "Movies list:\n",
      "\n",
      "Name:  Boys, Les (1997)\n",
      "url:  http://image.tmdb.org/t/p/w200/s2wI2QZDm4s8mFATMVRDvdOsF73.jpg\n"
     ]
    },
    {
     "data": {
      "text/html": [
       "<img src=\"http://image.tmdb.org/t/p/w200/s2wI2QZDm4s8mFATMVRDvdOsF73.jpg\"/>"
      ],
      "text/plain": [
       "<IPython.core.display.Image object>"
      ]
     },
     "metadata": {},
     "output_type": "display_data"
    },
    {
     "name": "stdout",
     "output_type": "stream",
     "text": [
      "\n",
      "Name:  Great Day in Harlem, A (1994)\n",
      "url:  http://image.tmdb.org/t/p/w200/606IorDjRMQZYaEdPBvjM8uI6qm.jpg\n"
     ]
    },
    {
     "data": {
      "text/html": [
       "<img src=\"http://image.tmdb.org/t/p/w200/606IorDjRMQZYaEdPBvjM8uI6qm.jpg\"/>"
      ],
      "text/plain": [
       "<IPython.core.display.Image object>"
      ]
     },
     "metadata": {},
     "output_type": "display_data"
    },
    {
     "name": "stdout",
     "output_type": "stream",
     "text": [
      "\n",
      "Name:  Aiqing wansui (1994)\n",
      "url:  None\n",
      "\n",
      "Name:  Saint of Fort Washington, The (1993)\n",
      "url:  http://image.tmdb.org/t/p/w200/e8ie1x22wFEo63LQBbpBDqIH4oY.jpg\n"
     ]
    },
    {
     "data": {
      "text/html": [
       "<img src=\"http://image.tmdb.org/t/p/w200/e8ie1x22wFEo63LQBbpBDqIH4oY.jpg\"/>"
      ],
      "text/plain": [
       "<IPython.core.display.Image object>"
      ]
     },
     "metadata": {},
     "output_type": "display_data"
    },
    {
     "name": "stdout",
     "output_type": "stream",
     "text": [
      "\n",
      "Name:  Someone Else's America (1995)\n",
      "url:  http://image.tmdb.org/t/p/w200/xtJfxmlIe3iRFFTP4TNFRwacVz.jpg\n"
     ]
    },
    {
     "data": {
      "text/html": [
       "<img src=\"http://image.tmdb.org/t/p/w200/xtJfxmlIe3iRFFTP4TNFRwacVz.jpg\"/>"
      ],
      "text/plain": [
       "<IPython.core.display.Image object>"
      ]
     },
     "metadata": {},
     "output_type": "display_data"
    },
    {
     "name": "stdout",
     "output_type": "stream",
     "text": [
      "\n",
      "Name:  Some Mother's Son (1996)\n",
      "url:  http://image.tmdb.org/t/p/w200/ngy7zafrXEDCUOPfolcbFofMDmI.jpg\n"
     ]
    },
    {
     "data": {
      "text/html": [
       "<img src=\"http://image.tmdb.org/t/p/w200/ngy7zafrXEDCUOPfolcbFofMDmI.jpg\"/>"
      ],
      "text/plain": [
       "<IPython.core.display.Image object>"
      ]
     },
     "metadata": {},
     "output_type": "display_data"
    },
    {
     "name": "stdout",
     "output_type": "stream",
     "text": [
      "\n",
      "Name:  Nico Icon (1995)\n",
      "url:  http://image.tmdb.org/t/p/w200/4qO219U8z1XeHLni800jCsbpSs0.jpg\n"
     ]
    },
    {
     "data": {
      "text/html": [
       "<img src=\"http://image.tmdb.org/t/p/w200/4qO219U8z1XeHLni800jCsbpSs0.jpg\"/>"
      ],
      "text/plain": [
       "<IPython.core.display.Image object>"
      ]
     },
     "metadata": {},
     "output_type": "display_data"
    },
    {
     "name": "stdout",
     "output_type": "stream",
     "text": [
      "\n",
      "Name:  Pather Panchali (1955)\n",
      "url:  http://image.tmdb.org/t/p/w200/frZj5djlU9hFEjMcL21RJZVuG5O.jpg\n"
     ]
    },
    {
     "data": {
      "text/html": [
       "<img src=\"http://image.tmdb.org/t/p/w200/frZj5djlU9hFEjMcL21RJZVuG5O.jpg\"/>"
      ],
      "text/plain": [
       "<IPython.core.display.Image object>"
      ]
     },
     "metadata": {},
     "output_type": "display_data"
    },
    {
     "name": "stdout",
     "output_type": "stream",
     "text": [
      "\n",
      "Name:  Star Kid (1997)\n",
      "url:  http://image.tmdb.org/t/p/w200/zspMlOFJ76g5KyfmucgnvnkJnuN.jpg\n"
     ]
    },
    {
     "data": {
      "text/html": [
       "<img src=\"http://image.tmdb.org/t/p/w200/zspMlOFJ76g5KyfmucgnvnkJnuN.jpg\"/>"
      ],
      "text/plain": [
       "<IPython.core.display.Image object>"
      ]
     },
     "metadata": {},
     "output_type": "display_data"
    },
    {
     "name": "stdout",
     "output_type": "stream",
     "text": [
      "\n",
      "Name:  Rough Magic (1995)\n",
      "url:  http://image.tmdb.org/t/p/w200/qbvAwn5XjNq4sn4ruT7nOet7unn.jpg\n"
     ]
    },
    {
     "data": {
      "text/html": [
       "<img src=\"http://image.tmdb.org/t/p/w200/qbvAwn5XjNq4sn4ruT7nOet7unn.jpg\"/>"
      ],
      "text/plain": [
       "<IPython.core.display.Image object>"
      ]
     },
     "metadata": {},
     "output_type": "display_data"
    }
   ],
   "source": [
    "# Get top 10 movies for all users\n",
    "top_n = get_top_n(predictions, n=10)\n",
    "\n",
    "# Read the mappings row id <-> movie name\n",
    "rid_to_name, name_to_rid = read_item_names()\n",
    "\n",
    "# Print the recommended items for user id 135\n",
    "uid = '135'\n",
    "user_ratings = top_n[uid]\n",
    "recommended_items = [iid for (iid, _) in user_ratings]\n",
    "print(f'Recommended items for user id {uid}: ',', '.join(recommended_items))\n",
    "\n",
    "# Convert ids into names\n",
    "item_names = [rid_to_name[rid]\n",
    "              for rid in recommended_items]\n",
    "print(f'\\nRecommended movies for user id {uid}: ', ', '.join(item_names))\n",
    "\n",
    "print('\\nMovies list:')\n",
    "# Show name, url and covers\n",
    "for name in item_names:\n",
    "    print('\\nName: ', name)\n",
    "    clean_name = re.sub(r'\\([^)]*\\)', '', name) # Remove year of the movie (in between paranthesis)\n",
    "    try:\n",
    "        url = TMDB_class.TMDB().get_poster_path_by_name(clean_name)\n",
    "    except:\n",
    "        url = None\n",
    "    print('url: ', url)\n",
    "    if url:\n",
    "        display(Image(url=url))"
   ]
  },
  {
   "cell_type": "markdown",
   "metadata": {
    "id": "EPus0WuNQTu-"
   },
   "source": [
    "### Precision and Recall at rank k\n",
    "\n",
    "We can evaluate the performance of our recommender using the precision and recall at rank k. Let's first create a function that returns the precision and recall at rank k for each user:"
   ]
  },
  {
   "cell_type": "code",
   "execution_count": 47,
   "metadata": {
    "id": "4YygiDmbSGeC"
   },
   "outputs": [],
   "source": [
    "def precision_recall_at_k(predictions, k=10, threshold=3.5):\n",
    "    '''Return precision and recall at k metrics for each user.'''\n",
    "\n",
    "    # First map the predictions to each user.\n",
    "    user_est_true = defaultdict(list)\n",
    "    for uid, _, true_r, est, _ in predictions:\n",
    "        user_est_true[uid].append((est, true_r))\n",
    "\n",
    "    precisions = dict()\n",
    "    recalls = dict()\n",
    "    for uid, user_ratings in user_est_true.items():\n",
    "\n",
    "        # Sort user ratings by estimated value\n",
    "        user_ratings.sort(key=lambda x: x[0], reverse=True)\n",
    "\n",
    "        # Number of relevant items\n",
    "        n_rel = sum((true_r >= threshold) for (_, true_r) in user_ratings)\n",
    "\n",
    "        # Number of recommended items in top k\n",
    "        n_rec_k = sum((est >= threshold) for (est, _) in user_ratings[:k])\n",
    "\n",
    "        # Number of relevant and recommended items in top k\n",
    "        n_rel_and_rec_k = sum(((true_r >= threshold) and (est >= threshold))\n",
    "                              for (est, true_r) in user_ratings[:k])\n",
    "\n",
    "        # Precision@K: Proportion of recommended items that are relevant\n",
    "        precisions[uid] = n_rel_and_rec_k / n_rec_k if n_rec_k != 0 else 1\n",
    "\n",
    "        # Recall@K: Proportion of relevant items that are recommended\n",
    "        recalls[uid] = n_rel_and_rec_k / n_rel if n_rel != 0 else 1\n",
    "\n",
    "    return precisions, recalls"
   ]
  },
  {
   "cell_type": "markdown",
   "metadata": {},
   "source": [
    "Now we train the same model as before, this time splitting our dataset into training and test set. Then, we compute the precision and recall for various ranks:"
   ]
  },
  {
   "cell_type": "code",
   "execution_count": 48,
   "metadata": {
    "colab": {
     "base_uri": "https://localhost:8080/",
     "height": 318
    },
    "id": "t34ttk2LSRiP",
    "outputId": "520e4cfe-14ad-4ec3-f466-446f4c1f0887"
   },
   "outputs": [
    {
     "data": {
      "image/png": "[encoded data removed]",
      "text/plain": [
       "<Figure size 640x480 with 1 Axes>"
      ]
     },
     "metadata": {},
     "output_type": "display_data"
    },
    {
     "name": "stdout",
     "output_type": "stream",
     "text": [
      "Precision @ 20 for user-based knn 0.75359853313601\n",
      "Recall @ 20 for user-based knn 0.6396162494392718\n"
     ]
    }
   ],
   "source": [
    "# Create training and test set\n",
    "trainset, testset = train_test_split(data, test_size=0.2)\n",
    "\n",
    "# Instance of KNNWithMeans\n",
    "algo = KNNWithMeans(k=40, min_k=1, sim_options=sim_options, verbose=False)\n",
    "\n",
    "# Fit model on training set\n",
    "algo.fit(trainset)\n",
    "\n",
    "# Predict test set values\n",
    "predictions = algo.test(testset)\n",
    "\n",
    "# Compute precision and recall for k between 0 and 9\n",
    "precision = []\n",
    "recall = []\n",
    "for k in range(10):\n",
    "    # rating > 3.5 = relevant, rating < 3.5 = irrelevant\n",
    "    precisions, recalls = precision_recall_at_k(predictions, k=k, threshold=3.5)\n",
    "    # Precision and recall can then be averaged over all users\n",
    "    precision.append( sum(prec for prec in precisions.values()) / len(precisions) )\n",
    "    recall.append( sum(rec for rec in recalls.values()) / len(recalls) )\n",
    "\n",
    "# Plot\n",
    "plt.plot(range(10), recall, 'ro-', label=\"Recall\")\n",
    "plt.plot(range(10), precision, 'go-', label=\"Precision\")\n",
    "plt.legend()\n",
    "plt.title(\"Precision and recall for user-based KNN\")\n",
    "plt.show();\n",
    "\n",
    "# Precision and recall at rank 20:\n",
    "precisions, recalls = precision_recall_at_k(predictions, k=20, threshold=3.5)\n",
    "print(\"Precision @ 20 for user-based knn\", sum(prec for prec in precisions.values()) / len(precisions))\n",
    "print(\"Recall @ 20 for user-based knn\", sum(rec for rec in recalls.values()) / len(recalls))"
   ]
  },
  {
   "cell_type": "markdown",
   "metadata": {
    "id": "Dl6U1X9tSWS2"
   },
   "source": [
    "### Precision-recall curve\n",
    "\n",
    "We will now observe the area under precision recall curve for two methods: SVD ([Documentation](https://surprise.readthedocs.io/en/stable/matrix_factorization.html)) and KNN. We first create a function that takes as input an instance of algorithm and returns the precision and recall as calculated above:"
   ]
  },
  {
   "cell_type": "code",
   "execution_count": 49,
   "metadata": {},
   "outputs": [],
   "source": [
    "def precision_recall_algo(algo):\n",
    "    '''Return precision and recall at k metrics for an algorithm.'''    \n",
    "    \n",
    "    # Fit algo on training set\n",
    "    algo.fit(trainset)\n",
    "    \n",
    "    # Predict on test set\n",
    "    predictions = algo.test(testset)\n",
    "    \n",
    "    # Compute precision and recall\n",
    "    precision = []\n",
    "    recall = []\n",
    "    for k in range(20):\n",
    "        precisions, recalls = precision_recall_at_k(predictions, k=k, threshold=3.5)\n",
    "        precision.append( sum(prec for prec in precisions.values()) / len(precisions) )\n",
    "        recall.append( sum(rec for rec in recalls.values()) / len(recalls) ) \n",
    "    \n",
    "    return precision, recall"
   ]
  },
  {
   "cell_type": "markdown",
   "metadata": {},
   "source": [
    "Let's plot our precision-recall curves for our two algorithms:"
   ]
  },
  {
   "cell_type": "code",
   "execution_count": 50,
   "metadata": {
    "colab": {
     "base_uri": "https://localhost:8080/",
     "height": 295
    },
    "id": "pLLQAQ3JST84",
    "outputId": "cb8e36fd-f803-4952-cb76-8ea72de86a89"
   },
   "outputs": [
    {
     "data": {
      "image/png": "[encoded data removed]",
      "text/plain": [
       "<Figure size 640x480 with 1 Axes>"
      ]
     },
     "metadata": {},
     "output_type": "display_data"
    }
   ],
   "source": [
    "# KNN precision and recall\n",
    "algo_KNN =  KNNWithMeans(k=40, min_k=1, sim_options=sim_options, verbose=False)\n",
    "precision_KNN, recall_KNN = precision_recall_algo(algo_KNN)\n",
    "\n",
    "# SVD precision and recall\n",
    "algo_SVD = SVD()\n",
    "precision_SVD, recall_SVD = precision_recall_algo(algo_SVD)\n",
    "\n",
    "# Plot\n",
    "plt.step(recall, precision, color='b', where='post', label ='KNN')\n",
    "plt.step(recall_SVD, precision_SVD, color='g', where='post', label ='SVD')\n",
    "plt.xlabel('Recall')\n",
    "plt.ylabel('Precision')\n",
    "plt.legend()\n",
    "plt.title('Precision-Recall curve');"
   ]
  },
  {
   "cell_type": "markdown",
   "metadata": {},
   "source": [
    "### Cross-validation\n",
    "\n",
    "The Surprise library also provides built-in cross-validation to split the data to multiple folds ([Documentation](https://surprise.readthedocs.io/en/stable/model_selection.html#cross-validation))."
   ]
  },
  {
   "cell_type": "code",
   "execution_count": 51,
   "metadata": {},
   "outputs": [
    {
     "name": "stdout",
     "output_type": "stream",
     "text": [
      "Evaluating RMSE of algorithm KNNWithMeans on 5 split(s).\n",
      "\n",
      "                  Fold 1  Fold 2  Fold 3  Fold 4  Fold 5  Mean    Std     \n",
      "RMSE (testset)    0.9503  0.9505  0.9458  0.9509  0.9492  0.9494  0.0019  \n",
      "Fit time          0.26    0.27    0.32    0.28    0.27    0.28    0.02    \n",
      "Test time         1.90    1.99    2.02    1.97    1.87    1.95    0.05    \n"
     ]
    }
   ],
   "source": [
    "# Define options\n",
    "sim_options = {\n",
    "    'name': 'pearson',\n",
    "    'user_based': True \n",
    "}\n",
    "\n",
    "# Create instance of KNNWithMeans\n",
    "knn_means = KNNWithMeans(k=40, min_k=1, sim_options=sim_options, verbose=False)\n",
    "\n",
    "# Run 5-fold cross-validation and print results\n",
    "cross_validate(knn_means, data, measures=['RMSE'], cv=5, verbose=True);"
   ]
  },
  {
   "cell_type": "markdown",
   "metadata": {
    "id": "B7MDnHBBSdhi"
   },
   "source": [
    "### Tuning hyper-parameters\n",
    "\n",
    "We can also use `GridSearchCV` ([Documentation](https://surprise.readthedocs.io/en/stable/model_selection.html#surprise.model_selection.search.GridSearchCV)) to tune the hyper-parameters of our recommender system, e.g., tuning the number of neighbours in KNN:"
   ]
  },
  {
   "cell_type": "code",
   "execution_count": 52,
   "metadata": {
    "colab": {
     "base_uri": "https://localhost:8080/"
    },
    "id": "hst8xKOvSokf",
    "outputId": "198bbc4d-5f21-42b1-8a31-d196585b4008"
   },
   "outputs": [
    {
     "name": "stderr",
     "output_type": "stream",
     "text": [
      "[Parallel(n_jobs=-1)]: Using backend LokyBackend with 8 concurrent workers.\n"
     ]
    },
    {
     "name": "stdout",
     "output_type": "stream",
     "text": [
      "Computing the pearson similarity matrix...\n",
      "Computing the pearson similarity matrix...\n",
      "Computing the pearson similarity matrix...\n",
      "Computing the pearson similarity matrix...\n",
      "Computing the pearson similarity matrix...\n",
      "Done computing similarity matrix.\n",
      "Done computing similarity matrix.\n",
      "Computing the pearson similarity matrix...\n",
      "Done computing similarity matrix.\n",
      "Computing the pearson similarity matrix...\n",
      "Done computing similarity matrix.\n",
      "Computing the pearson similarity matrix...\n",
      "Done computing similarity matrix.\n",
      "Done computing similarity matrix.\n",
      "Done computing similarity matrix.\n",
      "Done computing similarity matrix.\n",
      "Computing the pearson similarity matrix...\n",
      "Computing the pearson similarity matrix...\n",
      "Computing the pearson similarity matrix...\n",
      "Computing the pearson similarity matrix...\n",
      "Done computing similarity matrix.\n",
      "Done computing similarity matrix.\n",
      "Computing the pearson similarity matrix...\n",
      "Done computing similarity matrix.\n",
      "Done computing similarity matrix.\n",
      "Done computing similarity matrix.\n",
      "Computing the pearson similarity matrix...\n",
      "Computing the pearson similarity matrix...\n",
      "Computing the pearson similarity matrix...\n",
      "Done computing similarity matrix.\n",
      "Done computing similarity matrix.\n",
      "Done computing similarity matrix.\n",
      "Computing the pearson similarity matrix...\n",
      "Computing the pearson similarity matrix...\n",
      "Done computing similarity matrix.\n",
      "Done computing similarity matrix.\n",
      "Computing the pearson similarity matrix...\n",
      "Computing the pearson similarity matrix...\n",
      "Done computing similarity matrix.\n",
      "Done computing similarity matrix.\n"
     ]
    },
    {
     "name": "stderr",
     "output_type": "stream",
     "text": [
      "[Parallel(n_jobs=-1)]: Done  16 out of  20 | elapsed:    6.7s remaining:    1.7s\n",
      "[Parallel(n_jobs=-1)]: Done  20 out of  20 | elapsed:    8.3s finished\n"
     ]
    },
    {
     "name": "stdout",
     "output_type": "stream",
     "text": [
      "Computing the pearson similarity matrix...\n",
      "Done computing similarity matrix.\n"
     ]
    }
   ],
   "source": [
    "param_grid={'k': [20, 30, 40, 50], \n",
    "            'sim_options': {'name': ['pearson'], 'user_based': [True]}}\n",
    "\n",
    "KNN_grid_search = GridSearchCV(KNNWithMeans, param_grid=param_grid, \n",
    "                               measures=['RMSE'], cv=5,\n",
    "                               refit=True, joblib_verbose=2, n_jobs=-1)\n",
    "\n",
    "KNN_grid_search.fit(data)"
   ]
  },
  {
   "cell_type": "markdown",
   "metadata": {},
   "source": [
    "Let's print the results:"
   ]
  },
  {
   "cell_type": "code",
   "execution_count": 53,
   "metadata": {
    "colab": {
     "base_uri": "https://localhost:8080/"
    },
    "id": "nbzLXSHxSp_X",
    "outputId": "8a393f62-c70b-4992-9806-e777deb3342e"
   },
   "outputs": [
    {
     "name": "stdout",
     "output_type": "stream",
     "text": [
      "Best parameter: {'rmse': {'k': 50, 'sim_options': {'name': 'pearson', 'user_based': True}}}\n",
      "Best RMSE:  {'rmse': 0.9468943475913798}\n"
     ]
    },
    {
     "data": {
      "text/plain": [
       "{'split0_test_rmse': array([0.9499, 0.9437, 0.9417, 0.9409]),\n",
       " 'split1_test_rmse': array([0.9507, 0.9436, 0.9409, 0.9394]),\n",
       " 'split2_test_rmse': array([0.9622, 0.957 , 0.9553, 0.9543]),\n",
       " 'split3_test_rmse': array([0.9513, 0.9453, 0.9432, 0.9422]),\n",
       " 'split4_test_rmse': array([0.9673, 0.9613, 0.9584, 0.9577]),\n",
       " 'mean_test_rmse': array([0.9563, 0.9502, 0.9479, 0.9469]),\n",
       " 'std_test_rmse': array([0.0071, 0.0075, 0.0074, 0.0075]),\n",
       " 'rank_test_rmse': array([4, 3, 2, 1]),\n",
       " 'mean_fit_time': array([0.3558, 0.3449, 0.3235, 0.3076]),\n",
       " 'std_fit_time': array([0.0475, 0.0212, 0.0235, 0.0197]),\n",
       " 'mean_test_time': array([1.7482, 2.0118, 2.2281, 2.0135]),\n",
       " 'std_test_time': array([0.042 , 0.0828, 0.018 , 0.1562]),\n",
       " 'params': [{'k': 20, 'sim_options': {'name': 'pearson', 'user_based': True}},\n",
       "  {'k': 30, 'sim_options': {'name': 'pearson', 'user_based': True}},\n",
       "  {'k': 40, 'sim_options': {'name': 'pearson', 'user_based': True}},\n",
       "  {'k': 50, 'sim_options': {'name': 'pearson', 'user_based': True}}],\n",
       " 'param_k': [20, 30, 40, 50],\n",
       " 'param_sim_options': [{'name': 'pearson', 'user_based': True},\n",
       "  {'name': 'pearson', 'user_based': True},\n",
       "  {'name': 'pearson', 'user_based': True},\n",
       "  {'name': 'pearson', 'user_based': True}]}"
      ]
     },
     "execution_count": 53,
     "metadata": {},
     "output_type": "execute_result"
    }
   ],
   "source": [
    "print('Best parameter:', KNN_grid_search.best_params)\n",
    "print('Best RMSE: ', KNN_grid_search.best_score)\n",
    "# We can even see the whole cv results\n",
    "KNN_grid_search.cv_results"
   ]
  },
  {
   "cell_type": "markdown",
   "metadata": {
    "id": "N7WFcS8eStYP"
   },
   "source": [
    "Finally, let's extract the best model and predict the rating given by user id 6 to movie id 908:"
   ]
  },
  {
   "cell_type": "code",
   "execution_count": 54,
   "metadata": {
    "id": "FPD_sr1mSrW2"
   },
   "outputs": [
    {
     "data": {
      "text/plain": [
       "Prediction(uid='6', iid='908', r_ui=None, est=2.8404324339671865, details={'actual_k': 16, 'was_impossible': False})"
      ]
     },
     "execution_count": 54,
     "metadata": {},
     "output_type": "execute_result"
    }
   ],
   "source": [
    "best_model_knn = KNN_grid_search.best_estimator['rmse']\n",
    "best_model_knn.predict('6', '908')"
   ]
  }
 ],
 "metadata": {
  "colab": {
   "collapsed_sections": [],
   "include_colab_link": true,
   "name": "Recommender_systems.ipynb",
   "provenance": []
  },
  "kernelspec": {
   "display_name": "Python 3 (ipykernel)",
   "language": "python",
   "name": "python3"
  },
  "language_info": {
   "codemirror_mode": {
    "name": "ipython",
    "version": 3
   },
   "file_extension": ".py",
   "mimetype": "text/x-python",
   "name": "python",
   "nbconvert_exporter": "python",
   "pygments_lexer": "ipython3",
   "version": "3.9.13"
  }
 },
 "nbformat": 4,
 "nbformat_minor": 4
}
